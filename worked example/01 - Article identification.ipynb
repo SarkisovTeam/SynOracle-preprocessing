{
 "cells": [
  {
   "attachments": {},
   "cell_type": "markdown",
   "id": "7908ccc6",
   "metadata": {},
   "source": [
    "# Extracting a list of DOIs from `Elsapy`\n",
    "---\n",
    "In this notebook we describe methods to find and download papers to text mine their synthesis protocols. As this is a worked example, we go through the process with a single paper only.\n",
    "\n",
    "The steps takes to find and download a paper are: \n",
    "1. Searching the SCOPUS database for a target paper using `elsapy`\n",
    "2. Ientifying key metadata about the paper like the publisher and DOI\n",
    "3. Using this metadata to download the paper\n"
   ]
  },
  {
   "attachments": {},
   "cell_type": "markdown",
   "id": "86b04397",
   "metadata": {},
   "source": [
    "## Importing useful libraries\n",
    "\n",
    "The first step is to import the `Elsapy` library and some ancillary tools."
   ]
  },
  {
   "cell_type": "code",
   "execution_count": 1,
   "id": "6751f49f",
   "metadata": {
    "ExecuteTime": {
     "end_time": "2022-10-04T10:49:07.367885Z",
     "start_time": "2022-10-04T10:48:58.515549Z"
    }
   },
   "outputs": [],
   "source": [
    "from elsapy.elsclient import ElsClient #The elsevier input/output client\n",
    "from elsapy.elsprofile import ElsAuthor, ElsAffil #Some useful information classes about the papers\n",
    "from elsapy.elsdoc import FullDoc, AbsDoc # Different paper document types\n",
    "from elsapy.elssearch import ElsSearch # The actual search engine we'll be using\n",
    "import requests # For accessing REST APIs over the internet\n",
    "import json # A common database system (javascript objects)\n",
    "import numpy as np # Numerical python, essential for handling mathematical terms and matrices\n",
    "import pandas as pd # A common data frame system, letting us access spreadsheet-likel data in python"
   ]
  },
  {
   "attachments": {},
   "cell_type": "markdown",
   "id": "6418ae50",
   "metadata": {},
   "source": [
    "## Setting up `Elsapy`\n",
    "Then, using credentials from [dev.elsevier.com](https://dev.elsevier.com/), instantiate the `ElsClient` object. \n",
    "\n",
    "N.B. For this section, and institution token isn't needed, only the API key. However, if you have an institution token it must be used for the API key to work."
   ]
  },
  {
   "cell_type": "code",
   "execution_count": 3,
   "id": "7f636df6",
   "metadata": {
    "ExecuteTime": {
     "end_time": "2022-10-04T10:49:07.383766Z",
     "start_time": "2022-10-04T10:49:07.369764Z"
    }
   },
   "outputs": [],
   "source": [
    "## Load configuration\n",
    "conFile = open(\"./elsapy_config.json\")\n",
    "config = json.load(conFile)\n",
    "conFile.close()\n",
    "\n",
    "## Initialize client\n",
    "client = ElsClient(config['apikey'])\n",
    "client.inst_token = config['insttoken']\n"
   ]
  },
  {
   "attachments": {},
   "cell_type": "markdown",
   "id": "5871bf62",
   "metadata": {},
   "source": [
    "## Defining search terms\n",
    "Here, we instantiate an `ElsSearch` object with identical search terms as when we're searching the web of science. \n",
    "The filter syntax is somewhat complex, but we've showcased a few options here. \n",
    "Further instructions for search string entry can be found [here](https://dev.elsevier.com/sc_search_tips.html)."
   ]
  },
  {
   "cell_type": "code",
   "execution_count": 4,
   "id": "0ea6cbb9",
   "metadata": {
    "ExecuteTime": {
     "end_time": "2022-10-04T10:49:57.718391Z",
     "start_time": "2022-10-04T10:49:57.705367Z"
    },
    "pycharm": {
     "name": "#%%\n"
    }
   },
   "outputs": [],
   "source": [
    "myDocSrch = ElsSearch('TITLE(ZIF-8 AND synthesis) AND SRCTYPE(J) AND pubyear > 2015 AND PUBLISHER(Elsevier)','scopus')"
   ]
  },
  {
   "attachments": {},
   "cell_type": "markdown",
   "id": "8dbeeca2",
   "metadata": {},
   "source": [
    "We separately run the search, and count how many results we get. In the first instance we set `get_all` to false to make it run faster and check we've found a reasonable number of papers."
   ]
  },
  {
   "cell_type": "code",
   "execution_count": 5,
   "id": "fc4ba616",
   "metadata": {
    "ExecuteTime": {
     "end_time": "2022-10-04T10:52:20.483545Z",
     "start_time": "2022-10-04T10:52:19.382175Z"
    },
    "scrolled": true
   },
   "outputs": [
    {
     "name": "stdout",
     "output_type": "stream",
     "text": [
      "98 papers found\n"
     ]
    }
   ],
   "source": [
    "myDocSrch.execute(client, get_all=False)\n",
    "print(myDocSrch.tot_num_res, 'papers found')"
   ]
  },
  {
   "attachments": {},
   "cell_type": "markdown",
   "id": "80eae93a",
   "metadata": {},
   "source": [
    "Once done, we can re-run the search with `get_all` as True, from which we see the results in table form."
   ]
  },
  {
   "cell_type": "code",
   "execution_count": 16,
   "id": "501aa48f",
   "metadata": {
    "ExecuteTime": {
     "end_time": "2022-10-04T10:52:49.746924Z",
     "start_time": "2022-10-04T10:52:22.253057Z"
    },
    "scrolled": true
   },
   "outputs": [
    {
     "data": {
      "text/plain": [
       "2     S2352186423001657\n",
       "13    S1387700322008668\n",
       "30    S2590123022000482\n",
       "37    S221171562200323X\n",
       "41    S1387181121006132\n",
       "69    S0277538718305412\n",
       "70    S1878535218301606\n",
       "Name: pii, dtype: object"
      ]
     },
     "execution_count": 16,
     "metadata": {},
     "output_type": "execute_result"
    }
   ],
   "source": [
    "myDocSrch.execute(client, get_all=True)\n",
    "myDocSrch.results_df[myDocSrch.results_df['openaccess']=='1']['pii']"
   ]
  },
  {
   "attachments": {},
   "cell_type": "markdown",
   "id": "7cf92759",
   "metadata": {},
   "source": [
    "The table contains lots of columns, many of which are not necessary for our purposes."
   ]
  },
  {
   "cell_type": "code",
   "execution_count": 12,
   "id": "7ecd5d67",
   "metadata": {
    "ExecuteTime": {
     "end_time": "2022-10-04T10:55:01.589311Z",
     "start_time": "2022-10-04T10:55:01.565310Z"
    }
   },
   "outputs": [
    {
     "name": "stdout",
     "output_type": "stream",
     "text": [
      "29 columns\n",
      "['@_fa',\n",
      " 'link',\n",
      " 'prism:url',\n",
      " 'dc:identifier',\n",
      " 'eid',\n",
      " 'dc:title',\n",
      " 'dc:creator',\n",
      " 'prism:publicationName',\n",
      " 'prism:issn',\n",
      " 'prism:volume',\n",
      " 'prism:pageRange',\n",
      " 'prism:coverDate',\n",
      " 'prism:coverDisplayDate',\n",
      " 'prism:doi',\n",
      " 'pii',\n",
      " 'citedby-count',\n",
      " 'affiliation',\n",
      " 'prism:aggregationType',\n",
      " 'subtype',\n",
      " 'subtypeDescription',\n",
      " 'article-number',\n",
      " 'source-id',\n",
      " 'openaccess',\n",
      " 'openaccessFlag',\n",
      " 'prism:eIssn',\n",
      " 'freetoread',\n",
      " 'freetoreadLabel',\n",
      " 'pubmed-id',\n",
      " 'prism:issueIdentifier']\n"
     ]
    }
   ],
   "source": [
    "from pprint import pprint\n",
    "print(len( myDocSrch.results_df.columns), 'columns')\n",
    "pprint([x for x in myDocSrch.results_df.columns])"
   ]
  },
  {
   "attachments": {},
   "cell_type": "markdown",
   "id": "9a6bc9bc",
   "metadata": {},
   "source": [
    "Instead, we can select just the columns we care about like this:"
   ]
  },
  {
   "cell_type": "code",
   "execution_count": 13,
   "id": "0cad3b02",
   "metadata": {
    "ExecuteTime": {
     "end_time": "2022-04-25T22:22:18.344192Z",
     "start_time": "2022-04-25T22:22:18.327188Z"
    }
   },
   "outputs": [
    {
     "data": {
      "text/html": [
       "<div>\n",
       "<style scoped>\n",
       "    .dataframe tbody tr th:only-of-type {\n",
       "        vertical-align: middle;\n",
       "    }\n",
       "\n",
       "    .dataframe tbody tr th {\n",
       "        vertical-align: top;\n",
       "    }\n",
       "\n",
       "    .dataframe thead th {\n",
       "        text-align: right;\n",
       "    }\n",
       "</style>\n",
       "<table border=\"1\" class=\"dataframe\">\n",
       "  <thead>\n",
       "    <tr style=\"text-align: right;\">\n",
       "      <th></th>\n",
       "      <th>dc:title</th>\n",
       "      <th>dc:creator</th>\n",
       "      <th>affiliation</th>\n",
       "      <th>prism:publicationName</th>\n",
       "      <th>prism:doi</th>\n",
       "      <th>pii</th>\n",
       "    </tr>\n",
       "  </thead>\n",
       "  <tbody>\n",
       "    <tr>\n",
       "      <th>0</th>\n",
       "      <td>Synthesis of nanofiltration membranes with enh...</td>\n",
       "      <td>Du Y.</td>\n",
       "      <td>[{'@_fa': 'true', 'affilname': 'RMIT Universit...</td>\n",
       "      <td>Desalination</td>\n",
       "      <td>10.1016/j.desal.2023.116685</td>\n",
       "      <td>S001191642300317X</td>\n",
       "    </tr>\n",
       "    <tr>\n",
       "      <th>1</th>\n",
       "      <td>High catalytic performance of CoCuFe&lt;inf&gt;2&lt;/in...</td>\n",
       "      <td>Moghaddam F.M.</td>\n",
       "      <td>[{'@_fa': 'true', 'affilname': 'Sharif Univers...</td>\n",
       "      <td>Journal of Molecular Structure</td>\n",
       "      <td>10.1016/j.molstruc.2023.135496</td>\n",
       "      <td>S0022286023005938</td>\n",
       "    </tr>\n",
       "    <tr>\n",
       "      <th>2</th>\n",
       "      <td>A high-performance ZIF-8 membrane for gas sepa...</td>\n",
       "      <td>Nguyen T.M.T.</td>\n",
       "      <td>[{'@_fa': 'true', 'affilname': 'Chung Yuan Chr...</td>\n",
       "      <td>Environmental Technology and Innovation</td>\n",
       "      <td>10.1016/j.eti.2023.103169</td>\n",
       "      <td>S2352186423001657</td>\n",
       "    </tr>\n",
       "    <tr>\n",
       "      <th>3</th>\n",
       "      <td>Plasma-assisted synthesis of ZIF-8 membrane fo...</td>\n",
       "      <td>Shan Y.</td>\n",
       "      <td>[{'@_fa': 'true', 'affilname': 'Jiangxi Normal...</td>\n",
       "      <td>Separation and Purification Technology</td>\n",
       "      <td>10.1016/j.seppur.2023.123871</td>\n",
       "      <td>S1383586623007797</td>\n",
       "    </tr>\n",
       "    <tr>\n",
       "      <th>4</th>\n",
       "      <td>Facile synthesis of ZIF-8-lignosulfonate micro...</td>\n",
       "      <td>Dai J.</td>\n",
       "      <td>[{'@_fa': 'true', 'affilname': 'Qilu Universit...</td>\n",
       "      <td>International Journal of Biological Macromolec...</td>\n",
       "      <td>10.1016/j.ijbiomac.2023.124672</td>\n",
       "      <td>S0141813023015660</td>\n",
       "    </tr>\n",
       "    <tr>\n",
       "      <th>5</th>\n",
       "      <td>Synthesis and ciprofloxacin adsorption of Gum ...</td>\n",
       "      <td>Yang D.</td>\n",
       "      <td>[{'@_fa': 'true', 'affilname': 'Wuhan Polytech...</td>\n",
       "      <td>Colloids and Surfaces A: Physicochemical and E...</td>\n",
       "      <td>10.1016/j.colsurfa.2023.131196</td>\n",
       "      <td>S0927775723002807</td>\n",
       "    </tr>\n",
       "    <tr>\n",
       "      <th>6</th>\n",
       "      <td>Molten NaCl assisted pyrolysis of ZIF-8/PAN el...</td>\n",
       "      <td>Ran S.</td>\n",
       "      <td>[{'@_fa': 'true', 'affilname': 'Dalian Univers...</td>\n",
       "      <td>Chemical Engineering Journal</td>\n",
       "      <td>10.1016/j.cej.2023.142174</td>\n",
       "      <td>S1385894723009051</td>\n",
       "    </tr>\n",
       "    <tr>\n",
       "      <th>7</th>\n",
       "      <td>Bicomponent hydrogels assisted templating synt...</td>\n",
       "      <td>Zheng H.</td>\n",
       "      <td>[{'@_fa': 'true', 'affilname': 'Henan Universi...</td>\n",
       "      <td>Journal of Molecular Structure</td>\n",
       "      <td>10.1016/j.molstruc.2022.134824</td>\n",
       "      <td>S002228602202470X</td>\n",
       "    </tr>\n",
       "    <tr>\n",
       "      <th>8</th>\n",
       "      <td>Facile synthesis of ZIF-8 incorporated electro...</td>\n",
       "      <td>Mohammed Y.A.Y.A.</td>\n",
       "      <td>[{'@_fa': 'true', 'affilname': 'University of ...</td>\n",
       "      <td>Chemical Engineering Journal</td>\n",
       "      <td>10.1016/j.cej.2023.141972</td>\n",
       "      <td>S1385894723007039</td>\n",
       "    </tr>\n",
       "    <tr>\n",
       "      <th>9</th>\n",
       "      <td>An ultra-sensitive electrochemical aptasensor ...</td>\n",
       "      <td>Zhang Y.</td>\n",
       "      <td>[{'@_fa': 'true', 'affilname': 'Chongqing Univ...</td>\n",
       "      <td>Microchemical Journal</td>\n",
       "      <td>10.1016/j.microc.2022.108316</td>\n",
       "      <td>S0026265X22011444</td>\n",
       "    </tr>\n",
       "    <tr>\n",
       "      <th>10</th>\n",
       "      <td>Synthesis of glycidol via transesterification ...</td>\n",
       "      <td>Timofeeva M.N.</td>\n",
       "      <td>[{'@_fa': 'true', 'affilname': 'Novosibirsk St...</td>\n",
       "      <td>Molecular Catalysis</td>\n",
       "      <td>10.1016/j.mcat.2023.113014</td>\n",
       "      <td>S2468823123001001</td>\n",
       "    </tr>\n",
       "    <tr>\n",
       "      <th>11</th>\n",
       "      <td>ZIF-8-templated synthesis of core-shell struct...</td>\n",
       "      <td>Jiao S.</td>\n",
       "      <td>[{'@_fa': 'true', 'affilname': 'Qingdao Univer...</td>\n",
       "      <td>Electrochimica Acta</td>\n",
       "      <td>10.1016/j.electacta.2023.141817</td>\n",
       "      <td>S001346862300004X</td>\n",
       "    </tr>\n",
       "    <tr>\n",
       "      <th>12</th>\n",
       "      <td>Facile synthesis of dual-hydrolase encapsulate...</td>\n",
       "      <td>Li M.</td>\n",
       "      <td>[{'@_fa': 'true', 'affilname': 'Huaibei Coal I...</td>\n",
       "      <td>Chemosphere</td>\n",
       "      <td>10.1016/j.chemosphere.2022.137673</td>\n",
       "      <td>S0045653522041662</td>\n",
       "    </tr>\n",
       "    <tr>\n",
       "      <th>13</th>\n",
       "      <td>Synthesis of ZIF-8(Fe) functionalized with cit...</td>\n",
       "      <td>Abishad P.</td>\n",
       "      <td>[{'@_fa': 'true', 'affilname': 'Mangalore Univ...</td>\n",
       "      <td>Inorganic Chemistry Communications</td>\n",
       "      <td>10.1016/j.inoche.2022.110058</td>\n",
       "      <td>S1387700322008668</td>\n",
       "    </tr>\n",
       "    <tr>\n",
       "      <th>14</th>\n",
       "      <td>Synthesis of CdSe QDs decorated ZIF-8 composit...</td>\n",
       "      <td>Sajwan D.</td>\n",
       "      <td>[{'@_fa': 'true', 'affilname': 'Doon Universit...</td>\n",
       "      <td>Materials Today: Proceedings</td>\n",
       "      <td>10.1016/j.matpr.2022.10.008</td>\n",
       "      <td>S2214785322065014</td>\n",
       "    </tr>\n",
       "    <tr>\n",
       "      <th>15</th>\n",
       "      <td>Enhanced ZIF-8-enabled colorimetric CO&lt;inf&gt;2&lt;/...</td>\n",
       "      <td>Davey A.K.</td>\n",
       "      <td>[{'@_fa': 'true', 'affilname': 'University of ...</td>\n",
       "      <td>Sensors and Actuators B: Chemical</td>\n",
       "      <td>10.1016/j.snb.2022.132783</td>\n",
       "      <td>S0925400522014265</td>\n",
       "    </tr>\n",
       "    <tr>\n",
       "      <th>16</th>\n",
       "      <td>One-step synthesis of ZIF-8 and anchoring it o...</td>\n",
       "      <td>Li M.</td>\n",
       "      <td>[{'@_fa': 'true', 'affilname': 'Guangxi Univer...</td>\n",
       "      <td>Journal of Environmental Chemical Engineering</td>\n",
       "      <td>10.1016/j.jece.2022.108852</td>\n",
       "      <td>S2213343722017250</td>\n",
       "    </tr>\n",
       "    <tr>\n",
       "      <th>17</th>\n",
       "      <td>Synthesis and application of ionic ‎liquid/ZIF...</td>\n",
       "      <td>Shoja S.M.R.</td>\n",
       "      <td>[{'@_fa': 'true', 'affilname': 'Amirkabir Univ...</td>\n",
       "      <td>Materials Today Communications</td>\n",
       "      <td>10.1016/j.mtcomm.2022.104829</td>\n",
       "      <td>S2352492822016701</td>\n",
       "    </tr>\n",
       "    <tr>\n",
       "      <th>18</th>\n",
       "      <td>Preparation and gas separation performance of ...</td>\n",
       "      <td>Yan T.</td>\n",
       "      <td>[{'@_fa': 'true', 'affilname': 'Dalian Univers...</td>\n",
       "      <td>Microporous and Mesoporous Materials</td>\n",
       "      <td>10.1016/j.micromeso.2022.112293</td>\n",
       "      <td>S1387181122006114</td>\n",
       "    </tr>\n",
       "    <tr>\n",
       "      <th>19</th>\n",
       "      <td>Synthesis of ZIF-8 tubular membrane via solven...</td>\n",
       "      <td>Suhaimi N.H.</td>\n",
       "      <td>[{'@_fa': 'true', 'affilname': 'Universiti Tek...</td>\n",
       "      <td>Chemosphere</td>\n",
       "      <td>10.1016/j.chemosphere.2022.136167</td>\n",
       "      <td>S0045653522026601</td>\n",
       "    </tr>\n",
       "  </tbody>\n",
       "</table>\n",
       "</div>"
      ],
      "text/plain": [
       "                                             dc:title         dc:creator  \\\n",
       "0   Synthesis of nanofiltration membranes with enh...              Du Y.   \n",
       "1   High catalytic performance of CoCuFe<inf>2</in...     Moghaddam F.M.   \n",
       "2   A high-performance ZIF-8 membrane for gas sepa...      Nguyen T.M.T.   \n",
       "3   Plasma-assisted synthesis of ZIF-8 membrane fo...            Shan Y.   \n",
       "4   Facile synthesis of ZIF-8-lignosulfonate micro...             Dai J.   \n",
       "5   Synthesis and ciprofloxacin adsorption of Gum ...            Yang D.   \n",
       "6   Molten NaCl assisted pyrolysis of ZIF-8/PAN el...             Ran S.   \n",
       "7   Bicomponent hydrogels assisted templating synt...           Zheng H.   \n",
       "8   Facile synthesis of ZIF-8 incorporated electro...  Mohammed Y.A.Y.A.   \n",
       "9   An ultra-sensitive electrochemical aptasensor ...           Zhang Y.   \n",
       "10  Synthesis of glycidol via transesterification ...     Timofeeva M.N.   \n",
       "11  ZIF-8-templated synthesis of core-shell struct...            Jiao S.   \n",
       "12  Facile synthesis of dual-hydrolase encapsulate...              Li M.   \n",
       "13  Synthesis of ZIF-8(Fe) functionalized with cit...         Abishad P.   \n",
       "14  Synthesis of CdSe QDs decorated ZIF-8 composit...          Sajwan D.   \n",
       "15  Enhanced ZIF-8-enabled colorimetric CO<inf>2</...         Davey A.K.   \n",
       "16  One-step synthesis of ZIF-8 and anchoring it o...              Li M.   \n",
       "17  Synthesis and application of ionic ‎liquid/ZIF...       Shoja S.M.R.   \n",
       "18  Preparation and gas separation performance of ...             Yan T.   \n",
       "19  Synthesis of ZIF-8 tubular membrane via solven...       Suhaimi N.H.   \n",
       "\n",
       "                                          affiliation  \\\n",
       "0   [{'@_fa': 'true', 'affilname': 'RMIT Universit...   \n",
       "1   [{'@_fa': 'true', 'affilname': 'Sharif Univers...   \n",
       "2   [{'@_fa': 'true', 'affilname': 'Chung Yuan Chr...   \n",
       "3   [{'@_fa': 'true', 'affilname': 'Jiangxi Normal...   \n",
       "4   [{'@_fa': 'true', 'affilname': 'Qilu Universit...   \n",
       "5   [{'@_fa': 'true', 'affilname': 'Wuhan Polytech...   \n",
       "6   [{'@_fa': 'true', 'affilname': 'Dalian Univers...   \n",
       "7   [{'@_fa': 'true', 'affilname': 'Henan Universi...   \n",
       "8   [{'@_fa': 'true', 'affilname': 'University of ...   \n",
       "9   [{'@_fa': 'true', 'affilname': 'Chongqing Univ...   \n",
       "10  [{'@_fa': 'true', 'affilname': 'Novosibirsk St...   \n",
       "11  [{'@_fa': 'true', 'affilname': 'Qingdao Univer...   \n",
       "12  [{'@_fa': 'true', 'affilname': 'Huaibei Coal I...   \n",
       "13  [{'@_fa': 'true', 'affilname': 'Mangalore Univ...   \n",
       "14  [{'@_fa': 'true', 'affilname': 'Doon Universit...   \n",
       "15  [{'@_fa': 'true', 'affilname': 'University of ...   \n",
       "16  [{'@_fa': 'true', 'affilname': 'Guangxi Univer...   \n",
       "17  [{'@_fa': 'true', 'affilname': 'Amirkabir Univ...   \n",
       "18  [{'@_fa': 'true', 'affilname': 'Dalian Univers...   \n",
       "19  [{'@_fa': 'true', 'affilname': 'Universiti Tek...   \n",
       "\n",
       "                                prism:publicationName  \\\n",
       "0                                        Desalination   \n",
       "1                      Journal of Molecular Structure   \n",
       "2             Environmental Technology and Innovation   \n",
       "3              Separation and Purification Technology   \n",
       "4   International Journal of Biological Macromolec...   \n",
       "5   Colloids and Surfaces A: Physicochemical and E...   \n",
       "6                        Chemical Engineering Journal   \n",
       "7                      Journal of Molecular Structure   \n",
       "8                        Chemical Engineering Journal   \n",
       "9                               Microchemical Journal   \n",
       "10                                Molecular Catalysis   \n",
       "11                                Electrochimica Acta   \n",
       "12                                        Chemosphere   \n",
       "13                 Inorganic Chemistry Communications   \n",
       "14                       Materials Today: Proceedings   \n",
       "15                  Sensors and Actuators B: Chemical   \n",
       "16      Journal of Environmental Chemical Engineering   \n",
       "17                     Materials Today Communications   \n",
       "18               Microporous and Mesoporous Materials   \n",
       "19                                        Chemosphere   \n",
       "\n",
       "                            prism:doi                pii  \n",
       "0         10.1016/j.desal.2023.116685  S001191642300317X  \n",
       "1      10.1016/j.molstruc.2023.135496  S0022286023005938  \n",
       "2           10.1016/j.eti.2023.103169  S2352186423001657  \n",
       "3        10.1016/j.seppur.2023.123871  S1383586623007797  \n",
       "4      10.1016/j.ijbiomac.2023.124672  S0141813023015660  \n",
       "5      10.1016/j.colsurfa.2023.131196  S0927775723002807  \n",
       "6           10.1016/j.cej.2023.142174  S1385894723009051  \n",
       "7      10.1016/j.molstruc.2022.134824  S002228602202470X  \n",
       "8           10.1016/j.cej.2023.141972  S1385894723007039  \n",
       "9        10.1016/j.microc.2022.108316  S0026265X22011444  \n",
       "10         10.1016/j.mcat.2023.113014  S2468823123001001  \n",
       "11    10.1016/j.electacta.2023.141817  S001346862300004X  \n",
       "12  10.1016/j.chemosphere.2022.137673  S0045653522041662  \n",
       "13       10.1016/j.inoche.2022.110058  S1387700322008668  \n",
       "14        10.1016/j.matpr.2022.10.008  S2214785322065014  \n",
       "15          10.1016/j.snb.2022.132783  S0925400522014265  \n",
       "16         10.1016/j.jece.2022.108852  S2213343722017250  \n",
       "17       10.1016/j.mtcomm.2022.104829  S2352492822016701  \n",
       "18    10.1016/j.micromeso.2022.112293  S1387181122006114  \n",
       "19  10.1016/j.chemosphere.2022.136167  S0045653522026601  "
      ]
     },
     "execution_count": 13,
     "metadata": {},
     "output_type": "execute_result"
    }
   ],
   "source": [
    "necessary_columns = ['dc:title', 'dc:creator', 'affiliation', 'prism:publicationName', 'prism:doi', 'pii']\n",
    "paper_info = myDocSrch.results_df[necessary_columns]\n",
    "paper_info.head(20)"
   ]
  },
  {
   "attachments": {},
   "cell_type": "markdown",
   "id": "a2fe9a56",
   "metadata": {},
   "source": [
    "## Downloading the paper\n",
    "Now that we've identified a paper that we want to download and textmine, we need to access it. \n",
    "While Elsevier allows easy access to their articles through the `elsapy` interface, I've found that accessing the web version simplifies later text minng. Accordingly, we're going to download the paper using `requests` alongside the paper identifier we found siogn `elsapy` and our acess tokens. \n",
    "\n",
    "This returns the manuscript as a binary xml document, which can be output to a file."
   ]
  },
  {
   "cell_type": "code",
   "execution_count": 18,
   "id": "169f12d3",
   "metadata": {},
   "outputs": [],
   "source": [
    "paper = paper_info.loc[30,'pii']\n",
    "\n",
    "x = requests.get(\n",
    "    f'https://api.elsevier.com/content/article/pii/{paper}',\n",
    "    params = {\n",
    "        'apiKey': config['apikey'],\n",
    "        'insttoken': config['insttoken']\n",
    "    }\n",
    ")\n",
    "\n",
    "with open(f'./{paper}.xml', 'wb') as f:\n",
    "    f.write(x.content)"
   ]
  }
 ],
 "metadata": {
  "kernelspec": {
   "display_name": "Python 3",
   "language": "python",
   "name": "python3"
  },
  "language_info": {
   "codemirror_mode": {
    "name": "ipython",
    "version": 3
   },
   "file_extension": ".py",
   "mimetype": "text/x-python",
   "name": "python",
   "nbconvert_exporter": "python",
   "pygments_lexer": "ipython3",
   "version": "3.7.10"
  },
  "toc": {
   "base_numbering": 1,
   "nav_menu": {},
   "number_sections": true,
   "sideBar": true,
   "skip_h1_title": true,
   "title_cell": "Table of Contents",
   "title_sidebar": "Contents",
   "toc_cell": false,
   "toc_position": {},
   "toc_section_display": true,
   "toc_window_display": false
  },
  "vscode": {
   "interpreter": {
    "hash": "b267987cce06007f6e03e8695abe5dfedc27fae1ae9ceb4e211c82b4ab32ec14"
   }
  }
 },
 "nbformat": 4,
 "nbformat_minor": 5
}
