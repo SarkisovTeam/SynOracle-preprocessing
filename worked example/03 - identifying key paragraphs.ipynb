{
 "cells": [
  {
   "attachments": {},
   "cell_type": "markdown",
   "id": "3b1e2fcd",
   "metadata": {
    "pycharm": {
     "name": "#%% md\n"
    }
   },
   "source": [
    "# Identifying key paragraphs in papers downloaded from the RSC\n",
    "---"
   ]
  },
  {
   "cell_type": "code",
   "execution_count": 1,
   "id": "f49b53a8",
   "metadata": {
    "ExecuteTime": {
     "start_time": "2022-07-05T08:05:25.374Z"
    }
   },
   "outputs": [],
   "source": [
    "import pandas as pd\n",
    "from chemdataextractor.doc import Document\n",
    "from chemdataextractor.doc.text import Paragraph, Title\n",
    "from chemdataextractor.doc.table import Table\n",
    "from chemdataextractor.model.model import Compound, ModelType, StringType\n",
    "import os, errno\n",
    "from glob import glob\n",
    "import numpy as np\n",
    "import matplotlib.pyplot as plt\n",
    "from bs4 import BeautifulSoup\n",
    "from itertools import tee\n",
    "from tqdm.notebook import tqdm, trange\n",
    "#from synparagraph import count_all_quantities\n",
    "from pprint import pprint\n",
    "\n",
    "import sys\n",
    "try:\n",
    "    from synoracle.xptlpaper import ExperimentalPaper\n",
    "except ModuleNotFoundError:\n",
    "    module_path = os.path.abspath(os.path.join('..'))\n",
    "    if module_path not in sys.path:\n",
    "        sys.path.append(module_path)\n",
    "    from synoracle.xptlpaper import ExperimentalPaper\n",
    "\n",
    "def li_iterate(li):\n",
    "    l = iter(li)\n",
    "    for _ in trange(len(li)):\n",
    "        yield next(l)\n"
   ]
  },
  {
   "attachments": {},
   "cell_type": "markdown",
   "id": "4c5bb2ca",
   "metadata": {
    "pycharm": {
     "name": "#%% md\n"
    }
   },
   "source": [
    "# The processing loop"
   ]
  },
  {
   "cell_type": "code",
   "execution_count": 2,
   "id": "c5cea5e3",
   "metadata": {},
   "outputs": [
    {
     "data": {
      "text/plain": [
       "[Title(id=None, references=[], text='Facile synthesis of ZIF-8 incorporated electrospun PAN/PEI nanofibrous composite membrane for efficient Cr(VI) adsorption from water ')]"
      ]
     },
     "execution_count": 2,
     "metadata": {},
     "output_type": "execute_result"
    }
   ],
   "source": [
    "test_paper = ExperimentalPaper(paper_identifier='S1385894723007039', source_directory='./')\n",
    "test_paper.create_cde_doc()\n",
    "test_paper.cde_doc.titles"
   ]
  },
  {
   "cell_type": "code",
   "execution_count": 3,
   "id": "2b329269",
   "metadata": {},
   "outputs": [
    {
     "name": "stdout",
     "output_type": "stream",
     "text": [
      "\n",
      "\n",
      "90\n",
      "--------\n",
      "0.730 g of Zn(NO3)2·6H2O was dissolved in 40 mL methanol and sonicated for 10 min to form solution A. Similarly, 3.285 g of 2-methylimidazole was dissolved in 40 mL methanol and sonicated for 10 min to form solution B. The two solutions were then mixed and stirred vigorously for 3 h at 25 ± 2 °C. Subsequently, the turbid mixture was separated by centrifugation (10000 rpm) yielding white precipitates that were washed with methanol three times and once with ethanol before drying at 60 °C under vacuum.\n",
      "([re.compile('0\\\\.730.g'), re.compile('40.mL'), re.compile('3\\\\.285.g'), re.compile('40.mL')], 4)\n",
      "\n",
      "\n",
      "102\n",
      "--------\n",
      "The effects of ZIF-8 loading (0–10%) in PAN/PEI NCM and of the initial pH of aqueous solution over a pH range of 2.0–7.0 on the removal efficiency of Cr(VI) were investigated. Briefly, 10 ± 0.1 mg of the adsorbent was introduced to a 50 mL solution with initial Cr(VI) concentrations of 50 and 100 mg·L−1 for pH and ZIF-8 loading effect studies, respectively. The initial pH values were adjusted using dropwise addition of 0.1 M aqueous solution of NaOH or HCl.\n",
      "([re.compile('0\\\\.1.mg'), re.compile('50.mL'), re.compile('100.mg'), re.compile('·.L−1'), re.compile('0\\\\.1.M')], 5)\n",
      "\n",
      "\n",
      "126\n",
      "--------\n",
      "Where Ce (mg·L−1) and Qe (mg·g−1) are the concentration of Cr(VI) and the amount adsorbed by an adsorbent at equilibrium time, respectively. Qmax (mg·g−1) indicates the maximum amount of Cr(VI) adsorbed by adsorbent. KL and KF are the adsorption rate constants of Langmuir and Freundlich models, while b (J‧mol−1) is the Temkin constant related to the heat of adsorption, and KT (L·mg−1) is the Temkin isotherm constant.\n",
      "([re.compile('·.L−1'), re.compile('·.g−1'), re.compile('·.g−1'), re.compile('‧.mol−1')], 4)\n",
      "\n",
      "\n",
      "139\n",
      "--------\n",
      "Cr(VI) adsorption onto the optimized PAN/PEI@ZIF-8 NCM in the presence of competitive ions (calcium, sodium, potassium, nitrate, chloride, and sulfate) was investigated. The effect of each competitive ion was monitored at concentrations of 100 and 200 mg·L−1 at 25 ± 2 0C. PAN/PEI@ZIF-8 (10 mg) was mixed with Cr(VI) (20 mg·L−1, 20 mL) aqueous solution.\n",
      "([re.compile('200.mg'), re.compile('10.mg'), re.compile('20.mg'), re.compile('·.L−1'), re.compile('20.mL')], 5)\n",
      "\n",
      "\n",
      "141\n",
      "--------\n",
      "Adsorption-desorption cyclic experiments were conducted by adding 10 ± 0.1 mg NF adsorbent (NCM) in 20 mL of 20 mg·L−1 Cr(VI) solution for 16 h. The Cr(VI) loaded NCM was regenerated with 0.05 M NaOH for 1 h at 25 ± 2 0C, then taken out for proper washing with ultrapure water to neutral pH, then used for the next adsorption test. The adsorption/desorption cycle experiments were carried out 10 times.\n",
      "([re.compile('0\\\\.1.mg'), re.compile('20.mL'), re.compile('20.mg'), re.compile('0\\\\.05.M')], 4)\n",
      "\n",
      "\n",
      "177\n",
      "--------\n",
      "b and judging by the correlation coefficients R2, the experimental data were well fitted with the PSO kinetics model compared with the other models, indicating chemisorption occurred during the uptake of Cr(VI) from the aqueous solution. Furthermore, the adsorption capacity (Qe.cal = 160.86 mg·g−1), calculated from the PSO kinetics model, is almost identical to the experimentally obtained value (Qe.exp = 161.55 mg·g−1).\n",
      "([re.compile('160\\\\.86.mg'), re.compile('·.g−1'), re.compile('161\\\\.55.mg'), re.compile('·.g−1')], 4)\n"
     ]
    }
   ],
   "source": [
    "for c,paragraph in enumerate(test_paper.cde_doc.paragraphs):\n",
    "    if test_paper.count_all_quantities(paragraph)[1] > 3:\n",
    "        print(f'\\n\\n{c}\\n--------') \n",
    "        print(paragraph.text)\n",
    "        print(test_paper.count_all_quantities(paragraph))"
   ]
  },
  {
   "cell_type": "code",
   "execution_count": 4,
   "id": "968ff8fd",
   "metadata": {},
   "outputs": [
    {
     "name": "stdout",
     "output_type": "stream",
     "text": [
      "Initialising AllenNLP model ✔   \n"
     ]
    },
    {
     "data": {
      "text/plain": [
       "{90: Paragraph(id='p0060', references=[], text='0.730\\xa0g of Zn(NO3)2·6H2O was dissolved in 40\\xa0mL methanol and sonicated for 10\\xa0min to form solution A. Similarly, 3.285\\xa0g of 2-methylimidazole was dissolved in 40\\xa0mL methanol and sonicated for 10\\xa0min to form solution B. The two solutions were then mixed and stirred vigorously for 3\\xa0h at 25\\xa0±\\xa02\\xa0°C. Subsequently, the turbid mixture was separated by centrifugation (10000\\xa0rpm) yielding white precipitates that were washed with methanol three times and once with ethanol before drying at 60\\xa0°C under vacuum.'),\n",
       " 102: Paragraph(id='p0080', references=[], text='The effects of ZIF-8 loading (0–10%) in PAN/PEI NCM and of the initial pH of aqueous solution over a pH range of 2.0–7.0 on the removal efficiency of Cr(VI) were investigated. Briefly, 10\\xa0±\\xa00.1\\xa0mg of the adsorbent was introduced to a 50\\xa0mL solution with initial Cr(VI) concentrations of 50 and 100\\xa0mg·L−1 for pH and ZIF-8 loading effect studies, respectively. The initial pH values were adjusted using dropwise addition of 0.1\\xa0M aqueous solution of NaOH or HCl.'),\n",
       " 104: Paragraph(id='p0085', references=[], text='Kinetics experiments were carried out by adding 10\\xa0±\\xa00.1\\xa0mg of PAN/PEI@ZIF-8 into a 50\\xa0mL aqueous solution of 50\\xa0mg·L−1 Cr(VI). The samples were taken at appropriate time intervals (0–960\\xa0min) and analyzed for Cr(VI) concentration by ICP-OES.'),\n",
       " 139: Paragraph(id='p0125', references=[], text='Cr(VI) adsorption onto the optimized PAN/PEI@ZIF-8 NCM in the presence of competitive ions (calcium, sodium, potassium, nitrate, chloride, and sulfate) was investigated. The effect of each competitive ion was monitored at concentrations of 100 and 200\\xa0mg·L−1 at 25\\xa0±\\xa02 0C. PAN/PEI@ZIF-8 (10\\xa0mg) was mixed with Cr(VI) (20\\xa0mg·L−1, 20\\xa0mL) aqueous solution.'),\n",
       " 141: Paragraph(id='p0130', references=[], text='Adsorption-desorption cyclic experiments were conducted by adding 10\\xa0±\\xa00.1\\xa0mg NF adsorbent (NCM) in 20\\xa0mL of 20\\xa0mg·L−1 Cr(VI) solution for 16\\xa0h. The Cr(VI) loaded NCM was regenerated with 0.05\\xa0M NaOH for 1\\xa0h at 25\\xa0±\\xa02 0C, then taken out for proper washing with ultrapure water to neutral pH, then used for the next adsorption test. The adsorption/desorption cycle experiments were carried out 10 times.'),\n",
       " 171: Paragraph(id='p0180', references=[], text='d. The dosage of NFs adsorbent was taken as 0.2\\xa0g·L−1. As shown, by incorporating ZIF-8 up to 5\\xa0wt% in the NFs adsorbent, the adsorption capacity increased significantly from 154.55 to 238.20\\xa0mg·g−1. When the content of ZIF-8 increased to 10\\xa0wt% in the NCM, a lower adsorption capacity was observed, which could be attributed to the aggregation of some ZIF-8 particles as confirmed in the SEM ('),\n",
       " 227: Paragraph(id='p0245', references=[], text='. The adsorbent still demonstrated good nanofiber morphology with a few pores due to ZIF-8 leaching. In addition, Zn leaching was measured by ICP-OES to evaluate if secondary pollution would result from the usage of the adsorbent. The leaching amount of Zn was 0.2923\\xa0mg·L−1, which is far below the allowable industrial effluents limit (5\\xa0mg·L−1) according to Chinese regulation authorities (GB 25466–2010). The results of the current study demonstrate that PAN/PEI@ZIF-8 can withstand several adsorption/desorption cycles with relatively stable adsorption capacity under extreme acidic pH (pH\\xa0=\\xa03). Spent pickling acid, acid mine drainage, and tannery waste are all examples of low pH effluents that are extensively spiked with Cr(VI). Therefore, the electrospun PAN/PEI@ZIF-8 NCM is proved to be an environmentally viable and long-term feasible adsorbent for Cr(VI) removal.')}"
      ]
     },
     "execution_count": 4,
     "metadata": {},
     "output_type": "execute_result"
    }
   ],
   "source": [
    "test_paper.identify_key_paragraphs()\n",
    "test_paper.candidate_paragraphs"
   ]
  },
  {
   "cell_type": "code",
   "execution_count": 6,
   "id": "7c0ce0b5",
   "metadata": {},
   "outputs": [],
   "source": [
    "test_paper.output_paragraphs(paragraph_keys=[90])"
   ]
  },
  {
   "cell_type": "code",
   "execution_count": null,
   "id": "7e085e60",
   "metadata": {},
   "outputs": [],
   "source": []
  }
 ],
 "metadata": {
  "kernelspec": {
   "display_name": "Python 3",
   "language": "python",
   "name": "python3"
  },
  "language_info": {
   "codemirror_mode": {
    "name": "ipython",
    "version": 3
   },
   "file_extension": ".py",
   "mimetype": "text/x-python",
   "name": "python",
   "nbconvert_exporter": "python",
   "pygments_lexer": "ipython3",
   "version": "3.7.10"
  },
  "toc": {
   "base_numbering": 1,
   "nav_menu": {},
   "number_sections": true,
   "sideBar": true,
   "skip_h1_title": true,
   "title_cell": "Table of Contents",
   "title_sidebar": "Contents",
   "toc_cell": false,
   "toc_position": {},
   "toc_section_display": true,
   "toc_window_display": false
  }
 },
 "nbformat": 4,
 "nbformat_minor": 5
}
