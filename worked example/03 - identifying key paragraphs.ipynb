{
 "cells": [
  {
   "attachments": {},
   "cell_type": "markdown",
   "id": "3b1e2fcd",
   "metadata": {
    "pycharm": {
     "name": "#%% md\n"
    }
   },
   "source": [
    "# Identifying key paragraphs in papers downloaded from the RSC\n",
    "---"
   ]
  },
  {
   "cell_type": "code",
   "execution_count": 3,
   "id": "f49b53a8",
   "metadata": {
    "ExecuteTime": {
     "start_time": "2022-07-05T08:05:25.374Z"
    }
   },
   "outputs": [],
   "source": [
    "import pandas as pd\n",
    "from chemdataextractor.doc import Document\n",
    "from chemdataextractor.doc.text import Paragraph, Title\n",
    "from chemdataextractor.doc.table import Table\n",
    "from chemdataextractor.model.model import Compound, ModelType, StringType\n",
    "import os, errno\n",
    "from glob import glob\n",
    "import numpy as np\n",
    "import matplotlib.pyplot as plt\n",
    "from bs4 import BeautifulSoup\n",
    "from itertools import tee\n",
    "from tqdm.notebook import tqdm, trange\n",
    "#from synparagraph import count_all_quantities\n",
    "from pprint import pprint\n",
    "\n",
    "import sys\n",
    "try:\n",
    "    from synoracle.xptlpaper import ExperimentalPaper\n",
    "except ModuleNotFoundError:\n",
    "    module_path = os.path.abspath(os.path.join('..'))\n",
    "    if module_path not in sys.path:\n",
    "        sys.path.append(module_path)\n",
    "    from synoracle.xptlpaper import ExperimentalPaper\n",
    "\n",
    "def li_iterate(li):\n",
    "    l = iter(li)\n",
    "    for _ in trange(len(li)):\n",
    "        yield next(l)\n"
   ]
  },
  {
   "attachments": {},
   "cell_type": "markdown",
   "id": "4c5bb2ca",
   "metadata": {
    "pycharm": {
     "name": "#%% md\n"
    }
   },
   "source": [
    "# The processing loop"
   ]
  },
  {
   "cell_type": "code",
   "execution_count": 157,
   "id": "c5cea5e3",
   "metadata": {},
   "outputs": [
    {
     "data": {
      "text/plain": [
       "[Title(id=None, references=[], text='Electrorheological properties of a suspension of a mesoporous molecular sieve (MCM-41) ')]"
      ]
     },
     "execution_count": 157,
     "metadata": {},
     "output_type": "execute_result"
    }
   ],
   "source": [
    "test_paper = ExperimentalPaper(paper_identifier='S1387181100001670', source_directory='./')\n",
    "test_paper.create_cde_doc()\n",
    "test_paper.cde_doc.titles"
   ]
  },
  {
   "cell_type": "code",
   "execution_count": 158,
   "id": "2b329269",
   "metadata": {},
   "outputs": [],
   "source": [
    "for c,paragraph in enumerate(test_paper.cde_doc.paragraphs):\n",
    "    if test_paper.count_all_quantities(paragraph)[1] > 3:\n",
    "        print(f'\\n\\n{c}\\n--------') \n",
    "        print(paragraph.text)\n",
    "        print(test_paper.count_all_quantities(paragraph))"
   ]
  },
  {
   "cell_type": "code",
   "execution_count": 159,
   "id": "968ff8fd",
   "metadata": {},
   "outputs": [
    {
     "data": {
      "text/plain": [
       "{}"
      ]
     },
     "execution_count": 159,
     "metadata": {},
     "output_type": "execute_result"
    }
   ],
   "source": [
    "test_paper.identify_key_paragraphs()\n",
    "test_paper.candidate_paragraphs"
   ]
  },
  {
   "cell_type": "code",
   "execution_count": 160,
   "id": "7c0ce0b5",
   "metadata": {},
   "outputs": [],
   "source": [
    "test_paper.output_paragraphs()"
   ]
  },
  {
   "cell_type": "code",
   "execution_count": null,
   "id": "7e085e60",
   "metadata": {},
   "outputs": [],
   "source": []
  }
 ],
 "metadata": {
  "kernelspec": {
   "display_name": "Python 3",
   "language": "python",
   "name": "python3"
  },
  "language_info": {
   "codemirror_mode": {
    "name": "ipython",
    "version": 3
   },
   "file_extension": ".py",
   "mimetype": "text/x-python",
   "name": "python",
   "nbconvert_exporter": "python",
   "pygments_lexer": "ipython3",
   "version": "3.7.10"
  },
  "toc": {
   "base_numbering": 1,
   "nav_menu": {},
   "number_sections": true,
   "sideBar": true,
   "skip_h1_title": true,
   "title_cell": "Table of Contents",
   "title_sidebar": "Contents",
   "toc_cell": false,
   "toc_position": {},
   "toc_section_display": true,
   "toc_window_display": false
  }
 },
 "nbformat": 4,
 "nbformat_minor": 5
}
