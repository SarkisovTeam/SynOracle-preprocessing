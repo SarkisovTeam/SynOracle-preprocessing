{
 "cells": [
  {
   "attachments": {},
   "cell_type": "markdown",
   "metadata": {},
   "source": [
    "# Extracting information from a paragraph\n",
    "---\n",
    "So now we have our paragraphs, let's see what kind of information we can get out! The first thing we need to do is import some libraries, including the `synparagraph` one I wrote for this specific purpose."
   ]
  },
  {
   "cell_type": "code",
   "execution_count": 1,
   "metadata": {
    "ExecuteTime": {
     "end_time": "2022-11-04T15:03:30.117731Z",
     "start_time": "2022-11-04T15:03:28.664697Z"
    }
   },
   "outputs": [],
   "source": [
    "import os\n",
    "import sys\n",
    "import matplotlib.pyplot as plt\n",
    "\n",
    "try:\n",
    "    from synoracle.synparagraph import SynParagraph\n",
    "except ModuleNotFoundError:\n",
    "    module_path = os.path.abspath(os.path.join('..'))\n",
    "    if module_path not in sys.path:\n",
    "        sys.path.append(module_path)\n",
    "    from synoracle.synparagraph import SynParagraph"
   ]
  },
  {
   "cell_type": "code",
   "execution_count": 2,
   "metadata": {
    "ExecuteTime": {
     "end_time": "2022-11-04T15:03:54.227749Z",
     "start_time": "2022-11-04T15:03:53.999565Z"
    },
    "pycharm": {
     "name": "#%%\n"
    }
   },
   "outputs": [],
   "source": [
    "import pandas as pd\n",
    "import numpy as np\n",
    "import pint\n",
    "ureg = pint.UnitRegistry()\n",
    "Q_ = ureg.Quantity\n",
    "\n",
    "from glob import glob\n",
    "from tqdm.notebook import tqdm, trange\n",
    "def li_iterate(li):\n",
    "    l = iter(li)\n",
    "    for _ in trange(len(li)):\n",
    "        yield next(l)"
   ]
  },
  {
   "attachments": {},
   "cell_type": "markdown",
   "metadata": {},
   "source": [
    "## Picking a random paper and processing the information\n",
    "---\n",
    "We then instantiate a `SynthesisParagraph` object, which does our data extraction for us. This loads in the paper, but doesn't go through the data extraction just yet."
   ]
  },
  {
   "cell_type": "code",
   "execution_count": 4,
   "metadata": {
    "ExecuteTime": {
     "end_time": "2022-11-04T15:08:13.985103Z",
     "start_time": "2022-11-04T15:07:58.172068Z"
    }
   },
   "outputs": [
    {
     "name": "stdout",
     "output_type": "stream",
     "text": [
      "./\n"
     ]
    }
   ],
   "source": [
    "\n",
    "test_syn = SynParagraph('S1385894723007039.90', source_directory='./', chemtagger_dir = '../')"
   ]
  },
  {
   "attachments": {},
   "cell_type": "markdown",
   "metadata": {},
   "source": [
    "## Looking at the text classification\n",
    "---\n",
    "Now our object is successfully instantiated, we can read the text (`raw_text`) and scan how `ChemDataExtractor` and `ChemicalTagger`interpreted the information. `cde_text` underlines identified chemicals, and `xml_text` colour codes action phrases too."
   ]
  },
  {
   "cell_type": "code",
   "execution_count": 5,
   "metadata": {
    "ExecuteTime": {
     "end_time": "2022-11-04T15:11:36.796546Z",
     "start_time": "2022-11-04T15:11:36.780545Z"
    }
   },
   "outputs": [
    {
     "name": "stdout",
     "output_type": "stream",
     "text": [
      "\u001b[1;96m0.730\u001b[0m \u001b[1;96mg\u001b[0m \u001b[96mof\u001b[0m \u001b[4;96mZn(NO3)2·6H2O\u001b[0m \u001b[96mwas\u001b[0m \u001b[96mdissolved\u001b[0m \u001b[96min\u001b[0m \u001b[1;96m40\u001b[0m \u001b[1;96mmL\u001b[0m \u001b[4;96mmethanol\u001b[0m \u001b[mand\u001b[0m \u001b[95msonicated\u001b[0m \u001b[95mfor\u001b[0m \u001b[95m10\u001b[0m \u001b[95mmin\u001b[0m \u001b[95mto\u001b[0m \u001b[95mform\u001b[0m \u001b[95msolution\u001b[0m \u001b[95mA\u001b[0m \u001b[m.\u001b[0m \u001b[96mSimilarly\u001b[0m \u001b[96m,\u001b[0m \u001b[1;96m3.285\u001b[0m \u001b[1;96mg\u001b[0m \u001b[96mof\u001b[0m \u001b[4;96m2-methylimidazole\u001b[0m \u001b[96mwas\u001b[0m \u001b[96mdissolved\u001b[0m \u001b[96min\u001b[0m \u001b[1;96m40\u001b[0m \u001b[1;96mmL\u001b[0m \u001b[4;96mmethanol\u001b[0m \u001b[mand\u001b[0m \u001b[95msonicated\u001b[0m \u001b[95mfor\u001b[0m \u001b[95m10\u001b[0m \u001b[95mmin\u001b[0m \u001b[95mto\u001b[0m \u001b[95mform\u001b[0m \u001b[95msolution\u001b[0m \u001b[95mB\u001b[0m \u001b[m.\u001b[0m \u001b[91mThe\u001b[0m \u001b[91mtwo\u001b[0m \u001b[91msolutions\u001b[0m \u001b[91mwere\u001b[0m \u001b[91mthen\u001b[0m \u001b[91mmixed\u001b[0m \u001b[mand\u001b[0m \u001b[94mstirred\u001b[0m \u001b[94mvigorously\u001b[0m \u001b[94mfor\u001b[0m \u001b[94m3\u001b[0m \u001b[94mh\u001b[0m \u001b[94mat\u001b[0m \u001b[94m25\u001b[0m \u001b[94m±\u001b[0m \u001b[94m2\u001b[0m \u001b[94m°C\u001b[0m \u001b[m.\u001b[0m \u001b[95mSubsequently\u001b[0m \u001b[95m,\u001b[0m \u001b[95mthe\u001b[0m \u001b[95mturbid\u001b[0m \u001b[95mmixture\u001b[0m \u001b[95mwas\u001b[0m \u001b[95mseparated\u001b[0m \u001b[95mby\u001b[0m \u001b[95mcentrifugation\u001b[0m \u001b[95m(\u001b[0m \u001b[95m10000\u001b[0m \u001b[95mrpm\u001b[0m \u001b[95m)\u001b[0m \u001b[95myielding\u001b[0m \u001b[95mwhite\u001b[0m \u001b[95mprecipitates\u001b[0m \u001b[95mthat\u001b[0m \u001b[93mwere\u001b[0m \u001b[93mwashed\u001b[0m \u001b[93mwith\u001b[0m \u001b[4;93mmethanol\u001b[0m \u001b[93mthree\u001b[0m \u001b[93mtimes\u001b[0m \u001b[93mand\u001b[0m \u001b[93monce\u001b[0m \u001b[93mwith\u001b[0m \u001b[4;93methanol\u001b[0m \u001b[36mbefore\u001b[0m \u001b[36mdrying\u001b[0m \u001b[36mat\u001b[0m \u001b[36m60\u001b[0m \u001b[36m°C\u001b[0m \u001b[36munder\u001b[0m \u001b[36mvacuum\u001b[0m \u001b[m.\u001b[0m \n"
     ]
    }
   ],
   "source": [
    "test_syn.load_xml()\n",
    "print(test_syn.xml_para_annotate(test_syn.working_xml))"
   ]
  },
  {
   "attachments": {},
   "cell_type": "markdown",
   "metadata": {},
   "source": [
    "## Extracting a sequence\n",
    "---\n",
    "Finally, the sequence dataframe shows what was added when, letting us recreate the sequence of events described in the paragraph. "
   ]
  },
  {
   "cell_type": "code",
   "execution_count": 6,
   "metadata": {
    "ExecuteTime": {
     "end_time": "2022-11-04T15:12:45.842181Z",
     "start_time": "2022-11-04T15:12:45.786169Z"
    },
    "pycharm": {
     "name": "#%%\n"
    }
   },
   "outputs": [
    {
     "data": {
      "text/html": [
       "<div>\n",
       "<style scoped>\n",
       "    .dataframe tbody tr th:only-of-type {\n",
       "        vertical-align: middle;\n",
       "    }\n",
       "\n",
       "    .dataframe tbody tr th {\n",
       "        vertical-align: top;\n",
       "    }\n",
       "\n",
       "    .dataframe thead th {\n",
       "        text-align: right;\n",
       "    }\n",
       "</style>\n",
       "<table border=\"1\" class=\"dataframe\">\n",
       "  <thead>\n",
       "    <tr style=\"text-align: right;\">\n",
       "      <th></th>\n",
       "      <th>name</th>\n",
       "      <th>text</th>\n",
       "      <th>new_chemicals</th>\n",
       "      <th>temp</th>\n",
       "      <th>time</th>\n",
       "      <th>prepphrase</th>\n",
       "      <th>apparatus</th>\n",
       "      <th>step number</th>\n",
       "    </tr>\n",
       "  </thead>\n",
       "  <tbody>\n",
       "    <tr>\n",
       "      <th>0</th>\n",
       "      <td>Dissolve</td>\n",
       "      <td>0.730 g of Zn(NO3)2·6H2O was dissolved in 40 m...</td>\n",
       "      <td>[{'name': 'Zn(NO3)2·6H2O', 'mass': '0.730 g', ...</td>\n",
       "      <td>[]</td>\n",
       "      <td>[]</td>\n",
       "      <td>[in 40 mL methanol]</td>\n",
       "      <td>[]</td>\n",
       "      <td>0</td>\n",
       "    </tr>\n",
       "    <tr>\n",
       "      <th>1</th>\n",
       "      <td>Wait</td>\n",
       "      <td>sonicated for 10 min</td>\n",
       "      <td>[]</td>\n",
       "      <td>[]</td>\n",
       "      <td>[for 10 min]</td>\n",
       "      <td>[]</td>\n",
       "      <td>[]</td>\n",
       "      <td>1</td>\n",
       "    </tr>\n",
       "    <tr>\n",
       "      <th>2</th>\n",
       "      <td>Yield</td>\n",
       "      <td>to form solution A</td>\n",
       "      <td>[{'name': 'A', 'mass': nan, 'other_amount': na...</td>\n",
       "      <td>[]</td>\n",
       "      <td>[]</td>\n",
       "      <td>[]</td>\n",
       "      <td>[]</td>\n",
       "      <td>2</td>\n",
       "    </tr>\n",
       "    <tr>\n",
       "      <th>3</th>\n",
       "      <td>Dissolve</td>\n",
       "      <td>Similarly , 3.285 g of 2-methylimidazole was d...</td>\n",
       "      <td>[{'name': '2-methylimidazole', 'mass': '3.285 ...</td>\n",
       "      <td>[]</td>\n",
       "      <td>[]</td>\n",
       "      <td>[in 40 mL methanol]</td>\n",
       "      <td>[]</td>\n",
       "      <td>3</td>\n",
       "    </tr>\n",
       "    <tr>\n",
       "      <th>4</th>\n",
       "      <td>Wait</td>\n",
       "      <td>sonicated for 10 min</td>\n",
       "      <td>[]</td>\n",
       "      <td>[]</td>\n",
       "      <td>[for 10 min]</td>\n",
       "      <td>[]</td>\n",
       "      <td>[]</td>\n",
       "      <td>4</td>\n",
       "    </tr>\n",
       "    <tr>\n",
       "      <th>5</th>\n",
       "      <td>Yield</td>\n",
       "      <td>to form solution B</td>\n",
       "      <td>[{'name': 'B', 'mass': nan, 'other_amount': na...</td>\n",
       "      <td>[]</td>\n",
       "      <td>[]</td>\n",
       "      <td>[]</td>\n",
       "      <td>[]</td>\n",
       "      <td>5</td>\n",
       "    </tr>\n",
       "    <tr>\n",
       "      <th>6</th>\n",
       "      <td>Add</td>\n",
       "      <td>The two solutions were then mixed</td>\n",
       "      <td>[]</td>\n",
       "      <td>[]</td>\n",
       "      <td>[]</td>\n",
       "      <td>[]</td>\n",
       "      <td>[]</td>\n",
       "      <td>6</td>\n",
       "    </tr>\n",
       "    <tr>\n",
       "      <th>7</th>\n",
       "      <td>Stir</td>\n",
       "      <td>stirred vigorously for 3 h at 25 ± 2 °C</td>\n",
       "      <td>[]</td>\n",
       "      <td>[]</td>\n",
       "      <td>[for 3 h]</td>\n",
       "      <td>[at 25 ± 2 °C]</td>\n",
       "      <td>[]</td>\n",
       "      <td>7</td>\n",
       "    </tr>\n",
       "    <tr>\n",
       "      <th>8</th>\n",
       "      <td>Partition</td>\n",
       "      <td>Subsequently , the turbid mixture was separate...</td>\n",
       "      <td>[]</td>\n",
       "      <td>[]</td>\n",
       "      <td>[]</td>\n",
       "      <td>[by centrifugation ( 10000 rpm )]</td>\n",
       "      <td>[]</td>\n",
       "      <td>8</td>\n",
       "    </tr>\n",
       "    <tr>\n",
       "      <th>9</th>\n",
       "      <td>Yield</td>\n",
       "      <td>yielding white</td>\n",
       "      <td>[]</td>\n",
       "      <td>[]</td>\n",
       "      <td>[]</td>\n",
       "      <td>[]</td>\n",
       "      <td>[]</td>\n",
       "      <td>9</td>\n",
       "    </tr>\n",
       "    <tr>\n",
       "      <th>10</th>\n",
       "      <td>Precipitate</td>\n",
       "      <td>precipitates that</td>\n",
       "      <td>[]</td>\n",
       "      <td>[]</td>\n",
       "      <td>[]</td>\n",
       "      <td>[]</td>\n",
       "      <td>[]</td>\n",
       "      <td>10</td>\n",
       "    </tr>\n",
       "    <tr>\n",
       "      <th>11</th>\n",
       "      <td>Wash</td>\n",
       "      <td>were washed with methanol three times and once...</td>\n",
       "      <td>[{'name': 'methanol', 'mass': nan, 'other_amou...</td>\n",
       "      <td>[]</td>\n",
       "      <td>[]</td>\n",
       "      <td>[with methanol three times, once with ethanol]</td>\n",
       "      <td>[]</td>\n",
       "      <td>11</td>\n",
       "    </tr>\n",
       "    <tr>\n",
       "      <th>12</th>\n",
       "      <td>Dry</td>\n",
       "      <td>before drying at 60 °C under vacuum</td>\n",
       "      <td>[]</td>\n",
       "      <td>[at 60 °C]</td>\n",
       "      <td>[]</td>\n",
       "      <td>[under vacuum]</td>\n",
       "      <td>[]</td>\n",
       "      <td>12</td>\n",
       "    </tr>\n",
       "  </tbody>\n",
       "</table>\n",
       "</div>"
      ],
      "text/plain": [
       "           name                                               text  \\\n",
       "0      Dissolve  0.730 g of Zn(NO3)2·6H2O was dissolved in 40 m...   \n",
       "1          Wait                               sonicated for 10 min   \n",
       "2         Yield                                 to form solution A   \n",
       "3      Dissolve  Similarly , 3.285 g of 2-methylimidazole was d...   \n",
       "4          Wait                               sonicated for 10 min   \n",
       "5         Yield                                 to form solution B   \n",
       "6           Add                  The two solutions were then mixed   \n",
       "7          Stir            stirred vigorously for 3 h at 25 ± 2 °C   \n",
       "8     Partition  Subsequently , the turbid mixture was separate...   \n",
       "9         Yield                                     yielding white   \n",
       "10  Precipitate                                  precipitates that   \n",
       "11         Wash  were washed with methanol three times and once...   \n",
       "12          Dry                before drying at 60 °C under vacuum   \n",
       "\n",
       "                                        new_chemicals        temp  \\\n",
       "0   [{'name': 'Zn(NO3)2·6H2O', 'mass': '0.730 g', ...          []   \n",
       "1                                                  []          []   \n",
       "2   [{'name': 'A', 'mass': nan, 'other_amount': na...          []   \n",
       "3   [{'name': '2-methylimidazole', 'mass': '3.285 ...          []   \n",
       "4                                                  []          []   \n",
       "5   [{'name': 'B', 'mass': nan, 'other_amount': na...          []   \n",
       "6                                                  []          []   \n",
       "7                                                  []          []   \n",
       "8                                                  []          []   \n",
       "9                                                  []          []   \n",
       "10                                                 []          []   \n",
       "11  [{'name': 'methanol', 'mass': nan, 'other_amou...          []   \n",
       "12                                                 []  [at 60 °C]   \n",
       "\n",
       "            time                                      prepphrase apparatus  \\\n",
       "0             []                             [in 40 mL methanol]        []   \n",
       "1   [for 10 min]                                              []        []   \n",
       "2             []                                              []        []   \n",
       "3             []                             [in 40 mL methanol]        []   \n",
       "4   [for 10 min]                                              []        []   \n",
       "5             []                                              []        []   \n",
       "6             []                                              []        []   \n",
       "7      [for 3 h]                                  [at 25 ± 2 °C]        []   \n",
       "8             []               [by centrifugation ( 10000 rpm )]        []   \n",
       "9             []                                              []        []   \n",
       "10            []                                              []        []   \n",
       "11            []  [with methanol three times, once with ethanol]        []   \n",
       "12            []                                  [under vacuum]        []   \n",
       "\n",
       "   step number  \n",
       "0            0  \n",
       "1            1  \n",
       "2            2  \n",
       "3            3  \n",
       "4            4  \n",
       "5            5  \n",
       "6            6  \n",
       "7            7  \n",
       "8            8  \n",
       "9            9  \n",
       "10          10  \n",
       "11          11  \n",
       "12          12  "
      ]
     },
     "execution_count": 6,
     "metadata": {},
     "output_type": "execute_result"
    }
   ],
   "source": [
    "test_syn.raw_synthesis"
   ]
  },
  {
   "cell_type": "code",
   "execution_count": 7,
   "metadata": {
    "ExecuteTime": {
     "end_time": "2022-11-04T15:32:03.009360Z",
     "start_time": "2022-11-04T15:32:02.985372Z"
    }
   },
   "outputs": [],
   "source": [
    "test_syn.raw_synthesis.to_json('./S1385894723007039.90.json')"
   ]
  },
  {
   "cell_type": "code",
   "execution_count": null,
   "metadata": {},
   "outputs": [],
   "source": []
  }
 ],
 "metadata": {
  "kernelspec": {
   "display_name": "Python 3",
   "language": "python",
   "name": "python3"
  },
  "language_info": {
   "codemirror_mode": {
    "name": "ipython",
    "version": 3
   },
   "file_extension": ".py",
   "mimetype": "text/x-python",
   "name": "python",
   "nbconvert_exporter": "python",
   "pygments_lexer": "ipython3",
   "version": "3.7.10"
  },
  "toc": {
   "base_numbering": 1,
   "nav_menu": {},
   "number_sections": true,
   "sideBar": true,
   "skip_h1_title": true,
   "title_cell": "Table of Contents",
   "title_sidebar": "Contents",
   "toc_cell": false,
   "toc_position": {},
   "toc_section_display": true,
   "toc_window_display": false
  },
  "vscode": {
   "interpreter": {
    "hash": "00392d8af3ae6f67f688018650d199204f6d960c7ee17924fe18304161849de1"
   }
  }
 },
 "nbformat": 4,
 "nbformat_minor": 1
}
