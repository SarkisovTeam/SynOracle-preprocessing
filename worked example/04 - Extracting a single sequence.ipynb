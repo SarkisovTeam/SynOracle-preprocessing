{
 "cells": [
  {
   "attachments": {},
   "cell_type": "markdown",
   "metadata": {},
   "source": [
    "# Extracting information from a paragraph\n",
    "---\n",
    "So now we have our paragraphs, let's see what kind of information we can get out! The first thing we need to do is import some libraries, including the `synparagraph` one I wrote for this specific purpose."
   ]
  },
  {
   "cell_type": "code",
   "execution_count": 1,
   "metadata": {
    "ExecuteTime": {
     "end_time": "2022-11-04T15:03:30.117731Z",
     "start_time": "2022-11-04T15:03:28.664697Z"
    }
   },
   "outputs": [],
   "source": [
    "import os\n",
    "import sys\n",
    "import matplotlib.pyplot as plt\n",
    "\n",
    "try:\n",
    "    from synoracle.synparagraph import SynParagraph\n",
    "except ModuleNotFoundError:\n",
    "    module_path = os.path.abspath(os.path.join('..'))\n",
    "    if module_path not in sys.path:\n",
    "        sys.path.append(module_path)\n",
    "    from synoracle.synparagraph import SynParagraph"
   ]
  },
  {
   "cell_type": "code",
   "execution_count": 2,
   "metadata": {
    "ExecuteTime": {
     "end_time": "2022-11-04T15:03:54.227749Z",
     "start_time": "2022-11-04T15:03:53.999565Z"
    },
    "pycharm": {
     "name": "#%%\n"
    }
   },
   "outputs": [],
   "source": [
    "import pandas as pd\n",
    "import numpy as np\n",
    "import pint\n",
    "ureg = pint.UnitRegistry()\n",
    "Q_ = ureg.Quantity\n",
    "\n",
    "from glob import glob\n",
    "from tqdm.notebook import tqdm, trange\n",
    "def li_iterate(li):\n",
    "    l = iter(li)\n",
    "    for _ in trange(len(li)):\n",
    "        yield next(l)"
   ]
  },
  {
   "attachments": {},
   "cell_type": "markdown",
   "metadata": {},
   "source": [
    "## Finding the papers\n",
    "---\n",
    "Next, we need to find out papers, which we do using the helpful library `glob` for wildcard searching. We search for the `.txt` files corresponding to extracted paragraphs."
   ]
  },
  {
   "cell_type": "code",
   "execution_count": 3,
   "metadata": {
    "ExecuteTime": {
     "end_time": "2022-11-04T15:04:08.800839Z",
     "start_time": "2022-11-04T15:04:08.783865Z"
    },
    "pycharm": {
     "name": "#%%\n"
    }
   },
   "outputs": [
    {
     "name": "stdout",
     "output_type": "stream",
     "text": [
      "['acsaccounts5b00165.0', 'anie200504114.100', 'B206698J.13', 'B306504A.8', 'B810295C.12', 'B915273C.21', 'cm049398e.85', 'cm8012733.120', 'cm8012733.132', 'cm8012733.89', 'cm8012733.91', 'cm801411y.107', 'cm801411y.70', 'cm801411y.71', 'cm801411y.72', 'es000990o.103', 'es000990o.67', 'es000990o.68', 'es000990o.70', 'es000990o.71', 'es000990o.97', 'es000990o.99', 'ie0705047.65', 'ie0705047.69', 'ja0559911.70', 'ja974025i.129', 'ja974025i.299', 'ja974025i.78', 'ja974025i.79', 'jctbv9612.142', 'jctbv9612.158', 'jjcis201309023.54', 'jp014280w.105', 'jp014280w.77', 'jp021964a.72', 'jp021964a.93', 'jp044538t.96', 'jp044538t.97', 'jp044538t.98', 'la035834k', 'la902239m.63', 'la902239m.64', 'la902239m.88', 'nature02529.108', 'S0009261400013853.30', 'S0045653505011185', 'S0169131711000895.239', 'S0169131711000895.39', 'S0169131711000895.40', 'S0169131711000895.43', 'S0169131711000895.59', 'S0304389408003610.104', 'S0304389408003610.312', 'S0304389408003610.81', 'S0304389408003610.83', 'S0304389409019554.48', 'S0304389409019554.49', 'S0304389409019554.490', 'S0304389409019554.502', 'S0304389409019554.51', 'S0304389409019554.52', 'S0927651393800583.0', 's1085300936109.30', 's1085300936109.32', 'S1387181103006966.40', 'S1387181103006966.53', 'S1387181111006482.48', 'S1566736702000511.35', 'S1566736702000511.36']\n"
     ]
    }
   ],
   "source": [
    "files = [x.rsplit('\\\\',1)[1].rsplit('.', 1)[0] for x in glob('./majed/*.txt')]\n",
    "files_iter = iter(files)\n",
    "print(files)"
   ]
  },
  {
   "attachments": {},
   "cell_type": "markdown",
   "metadata": {},
   "source": [
    "## Picking a random paper and processing the information\n",
    "---\n",
    "We then instantiate a `SynthesisParagraph` object, which does our data extraction for us. This loads in the paper, but doesn't go through the data extraction just yet."
   ]
  },
  {
   "cell_type": "code",
   "execution_count": 277,
   "metadata": {
    "ExecuteTime": {
     "end_time": "2022-11-04T15:08:13.985103Z",
     "start_time": "2022-11-04T15:07:58.172068Z"
    }
   },
   "outputs": [
    {
     "ename": "StopIteration",
     "evalue": "",
     "output_type": "error",
     "traceback": [
      "\u001b[1;31m---------------------------------------------------------------------------\u001b[0m",
      "\u001b[1;31mStopIteration\u001b[0m                             Traceback (most recent call last)",
      "\u001b[1;32m<ipython-input-277-a8cc17170062>\u001b[0m in \u001b[0;36m<module>\u001b[1;34m\u001b[0m\n\u001b[1;32m----> 1\u001b[1;33m \u001b[0mworking\u001b[0m \u001b[1;33m=\u001b[0m \u001b[0mnext\u001b[0m\u001b[1;33m(\u001b[0m\u001b[0mfiles_iter\u001b[0m\u001b[1;33m)\u001b[0m\u001b[1;33m\u001b[0m\u001b[1;33m\u001b[0m\u001b[0m\n\u001b[0m\u001b[0;32m      2\u001b[0m \u001b[0mprint\u001b[0m\u001b[1;33m(\u001b[0m\u001b[0mworking\u001b[0m\u001b[1;33m)\u001b[0m\u001b[1;33m\u001b[0m\u001b[1;33m\u001b[0m\u001b[0m\n\u001b[0;32m      3\u001b[0m \u001b[0mtest_syn\u001b[0m \u001b[1;33m=\u001b[0m \u001b[0mSynParagraph\u001b[0m\u001b[1;33m(\u001b[0m\u001b[0mworking\u001b[0m\u001b[1;33m,\u001b[0m \u001b[0msource_directory\u001b[0m\u001b[1;33m=\u001b[0m\u001b[1;34m'./majed/'\u001b[0m\u001b[1;33m,\u001b[0m \u001b[0mchemtagger_dir\u001b[0m \u001b[1;33m=\u001b[0m \u001b[1;34m'../'\u001b[0m\u001b[1;33m)\u001b[0m\u001b[1;33m\u001b[0m\u001b[1;33m\u001b[0m\u001b[0m\n",
      "\u001b[1;31mStopIteration\u001b[0m: "
     ]
    }
   ],
   "source": [
    "working = next(files_iter)\n",
    "print(working)\n",
    "test_syn = SynParagraph(working, source_directory='./majed/', chemtagger_dir = '../')"
   ]
  },
  {
   "attachments": {},
   "cell_type": "markdown",
   "metadata": {},
   "source": [
    "## Looking at the text classification\n",
    "---\n",
    "Now our object is successfully instantiated, we can read the text (`raw_text`) and scan how `ChemDataExtractor` and `ChemicalTagger`interpreted the information. `cde_text` underlines identified chemicals, and `xml_text` colour codes action phrases too."
   ]
  },
  {
   "cell_type": "code",
   "execution_count": 274,
   "metadata": {
    "ExecuteTime": {
     "end_time": "2022-11-04T15:11:36.796546Z",
     "start_time": "2022-11-04T15:11:36.780545Z"
    }
   },
   "outputs": [
    {
     "name": "stdout",
     "output_type": "stream",
     "text": [
      "\u001b[4;96mSodium\u001b[0m \u001b[4;96mhydroxide\u001b[0m \u001b[1;96m0.88\u001b[0m \u001b[1;96mg\u001b[0m \u001b[1;96m(\u001b[0m \u001b[1;96m0.22\u001b[0m \u001b[1;96mmol\u001b[0m \u001b[1;96m)\u001b[0m \u001b[96mwas\u001b[0m \u001b[96mdissolved\u001b[0m \u001b[96min\u001b[0m \u001b[1;96m25\u001b[0m \u001b[1;96mml\u001b[0m \u001b[96mof\u001b[0m \u001b[96mdistilled\u001b[0m \u001b[4;96mwater\u001b[0m \u001b[m.\u001b[0m \u001b[4;91mSodium\u001b[0m \u001b[4;91maluminate\u001b[0m \u001b[1;91m1.05\u001b[0m \u001b[1;91mg\u001b[0m \u001b[1;91m(\u001b[0m \u001b[1;91m0.0128\u001b[0m \u001b[1;91mmol\u001b[0m \u001b[1;91m)\u001b[0m \u001b[91mand\u001b[0m \u001b[1;91m196\u001b[0m \u001b[1;91mml\u001b[0m \u001b[1;91m(\u001b[0m \u001b[1;91m4.841\u001b[0m \u001b[1;91mmol\u001b[0m \u001b[1;91m)\u001b[0m \u001b[91mof\u001b[0m \u001b[4;91mmethanol\u001b[0m \u001b[91mas\u001b[0m \u001b[91ma\u001b[0m \u001b[91msolvent\u001b[0m \u001b[91mwere\u001b[0m \u001b[91madded\u001b[0m \u001b[mand\u001b[0m \u001b[94mthe\u001b[0m \u001b[94mmixture\u001b[0m \u001b[94mwas\u001b[0m \u001b[94mstirred\u001b[0m \u001b[94mfor\u001b[0m \u001b[94m30\u001b[0m \u001b[94mmin\u001b[0m \u001b[m.\u001b[0m \u001b[4;91mTetraethoxysilane\u001b[0m \u001b[1;91m41.9\u001b[0m \u001b[1;91mml\u001b[0m \u001b[1;91m(\u001b[0m \u001b[1;91m0.1882\u001b[0m \u001b[1;91mmol\u001b[0m \u001b[1;91m)\u001b[0m \u001b[91mwas\u001b[0m \u001b[91madded\u001b[0m \u001b[91mdrop-wise\u001b[0m \u001b[mand\u001b[0m \u001b[94mstirred\u001b[0m \u001b[94mfor\u001b[0m \u001b[94man\u001b[0m \u001b[94mhour\u001b[0m \u001b[m.\u001b[0m \u001b[91mFinally\u001b[0m \u001b[1;91m15\u001b[0m \u001b[1;91mg\u001b[0m \u001b[91mof\u001b[0m \u001b[91mthe\u001b[0m \u001b[91mseeding\u001b[0m \u001b[91mgel\u001b[0m \u001b[91mwas\u001b[0m \u001b[91madded\u001b[0m \u001b[mand\u001b[0m \u001b[94mthe\u001b[0m \u001b[94mmixture\u001b[0m \u001b[94mwas\u001b[0m \u001b[94mstirred\u001b[0m \u001b[94mfor\u001b[0m \u001b[94m1\u001b[0m \u001b[94mh\u001b[0m \u001b[m.\u001b[0m \u001b[mThe\u001b[0m \u001b[mpH\u001b[0m \u001b[mof\u001b[0m \u001b[mthe\u001b[0m \u001b[mmixture\u001b[0m \u001b[mwas\u001b[0m \u001b[m10.2-11.0\u001b[0m \u001b[m.\u001b[0m \u001b[mThe\u001b[0m \u001b[mtotal\u001b[0m \u001b[mmixture\u001b[0m \u001b[mwas\u001b[0m \u001b[mput\u001b[0m \u001b[minto\u001b[0m \u001b[1m600\u001b[0m \u001b[1mml\u001b[0m \u001b[mParr\u001b[0m \u001b[mautoclave\u001b[0m \u001b[mand\u001b[0m \u001b[94mstirred\u001b[0m \u001b[94mat\u001b[0m \u001b[94m230-250\u001b[0m \u001b[94m°C\u001b[0m \u001b[94mfor\u001b[0m \u001b[94m4-10\u001b[0m \u001b[94mh\u001b[0m \u001b[m.\u001b[0m \u001b[95mThe\u001b[0m \u001b[95msolid\u001b[0m \u001b[95mproduct\u001b[0m \u001b[95mobtained\u001b[0m \u001b[95mwas\u001b[0m \u001b[95mfiltered\u001b[0m \u001b[m,\u001b[0m \u001b[93mwashed\u001b[0m \u001b[93mwith\u001b[0m \u001b[93mdistilled\u001b[0m \u001b[4;93mwater\u001b[0m \u001b[mand\u001b[0m \u001b[36mdried\u001b[0m \u001b[36mat\u001b[0m \u001b[36m100-110\u001b[0m \u001b[36m°C\u001b[0m \u001b[36mfor\u001b[0m \u001b[36m6\u001b[0m \u001b[36mh\u001b[0m \u001b[m.\u001b[0m \n"
     ]
    }
   ],
   "source": [
    "test_syn.load_xml()\n",
    "print(test_syn.xml_para_annotate(test_syn.working_xml))"
   ]
  },
  {
   "attachments": {},
   "cell_type": "markdown",
   "metadata": {},
   "source": [
    "## Extracting a sequence\n",
    "---\n",
    "Finally, the sequence dataframe shows what was added when, letting us recreate the sequence of events described in the paragraph. "
   ]
  },
  {
   "cell_type": "code",
   "execution_count": 275,
   "metadata": {
    "ExecuteTime": {
     "end_time": "2022-11-04T15:12:45.842181Z",
     "start_time": "2022-11-04T15:12:45.786169Z"
    },
    "pycharm": {
     "name": "#%%\n"
    }
   },
   "outputs": [
    {
     "data": {
      "text/html": [
       "<div>\n",
       "<style scoped>\n",
       "    .dataframe tbody tr th:only-of-type {\n",
       "        vertical-align: middle;\n",
       "    }\n",
       "\n",
       "    .dataframe tbody tr th {\n",
       "        vertical-align: top;\n",
       "    }\n",
       "\n",
       "    .dataframe thead th {\n",
       "        text-align: right;\n",
       "    }\n",
       "</style>\n",
       "<table border=\"1\" class=\"dataframe\">\n",
       "  <thead>\n",
       "    <tr style=\"text-align: right;\">\n",
       "      <th></th>\n",
       "      <th>name</th>\n",
       "      <th>text</th>\n",
       "      <th>new_chemicals</th>\n",
       "      <th>temp</th>\n",
       "      <th>time</th>\n",
       "      <th>prepphrase</th>\n",
       "      <th>apparatus</th>\n",
       "      <th>step number</th>\n",
       "    </tr>\n",
       "  </thead>\n",
       "  <tbody>\n",
       "    <tr>\n",
       "      <th>0</th>\n",
       "      <td>Dissolve</td>\n",
       "      <td>Sodium hydroxide 0.88 g ( 0.22 mol ) was disso...</td>\n",
       "      <td>[{'name': 'Sodium hydroxide', 'mass': '0.88 g'...</td>\n",
       "      <td>[]</td>\n",
       "      <td>[]</td>\n",
       "      <td>[in 25 ml of distilled water]</td>\n",
       "      <td>[]</td>\n",
       "      <td>0</td>\n",
       "    </tr>\n",
       "    <tr>\n",
       "      <th>1</th>\n",
       "      <td>Add</td>\n",
       "      <td>Sodium aluminate 1.05 g ( 0.0128 mol ) and 196...</td>\n",
       "      <td>[{'name': 'Sodium aluminate', 'mass': '1.05 g'...</td>\n",
       "      <td>[]</td>\n",
       "      <td>[]</td>\n",
       "      <td>[]</td>\n",
       "      <td>[]</td>\n",
       "      <td>1</td>\n",
       "    </tr>\n",
       "    <tr>\n",
       "      <th>2</th>\n",
       "      <td>Stir</td>\n",
       "      <td>the mixture was stirred for 30 min</td>\n",
       "      <td>[]</td>\n",
       "      <td>[]</td>\n",
       "      <td>[for 30 min]</td>\n",
       "      <td>[]</td>\n",
       "      <td>[]</td>\n",
       "      <td>2</td>\n",
       "    </tr>\n",
       "    <tr>\n",
       "      <th>3</th>\n",
       "      <td>Add</td>\n",
       "      <td>Tetraethoxysilane 41.9 ml ( 0.1882 mol ) was a...</td>\n",
       "      <td>[{'name': 'Tetraethoxysilane', 'mass': nan, 'o...</td>\n",
       "      <td>[]</td>\n",
       "      <td>[]</td>\n",
       "      <td>[]</td>\n",
       "      <td>[]</td>\n",
       "      <td>3</td>\n",
       "    </tr>\n",
       "    <tr>\n",
       "      <th>4</th>\n",
       "      <td>Stir</td>\n",
       "      <td>stirred for an hour</td>\n",
       "      <td>[]</td>\n",
       "      <td>[]</td>\n",
       "      <td>[for an hour]</td>\n",
       "      <td>[]</td>\n",
       "      <td>[]</td>\n",
       "      <td>4</td>\n",
       "    </tr>\n",
       "    <tr>\n",
       "      <th>5</th>\n",
       "      <td>Add</td>\n",
       "      <td>Finally 15 g of the seeding gel was added</td>\n",
       "      <td>[{'name': 'unknown', 'mass': '15 g', 'other_am...</td>\n",
       "      <td>[]</td>\n",
       "      <td>[]</td>\n",
       "      <td>[]</td>\n",
       "      <td>[]</td>\n",
       "      <td>5</td>\n",
       "    </tr>\n",
       "    <tr>\n",
       "      <th>6</th>\n",
       "      <td>Stir</td>\n",
       "      <td>the mixture was stirred for 1 h</td>\n",
       "      <td>[]</td>\n",
       "      <td>[]</td>\n",
       "      <td>[for 1 h]</td>\n",
       "      <td>[]</td>\n",
       "      <td>[]</td>\n",
       "      <td>6</td>\n",
       "    </tr>\n",
       "    <tr>\n",
       "      <th>7</th>\n",
       "      <td>None</td>\n",
       "      <td>The pH of the mixture was 10.2-11.0 .</td>\n",
       "      <td>[]</td>\n",
       "      <td>[]</td>\n",
       "      <td>[]</td>\n",
       "      <td>[of the mixture]</td>\n",
       "      <td>[]</td>\n",
       "      <td>7</td>\n",
       "    </tr>\n",
       "    <tr>\n",
       "      <th>8</th>\n",
       "      <td>Stir</td>\n",
       "      <td>stirred at 230-250 °C for 4-10 h</td>\n",
       "      <td>[]</td>\n",
       "      <td>[at 230-250 °C]</td>\n",
       "      <td>[for 4-10 h]</td>\n",
       "      <td>[]</td>\n",
       "      <td>[]</td>\n",
       "      <td>8</td>\n",
       "    </tr>\n",
       "    <tr>\n",
       "      <th>9</th>\n",
       "      <td>None</td>\n",
       "      <td>The total mixture was put into 600 ml Parr aut...</td>\n",
       "      <td>[]</td>\n",
       "      <td>[]</td>\n",
       "      <td>[]</td>\n",
       "      <td>[into 600 ml Parr autoclave]</td>\n",
       "      <td>[]</td>\n",
       "      <td>9</td>\n",
       "    </tr>\n",
       "    <tr>\n",
       "      <th>10</th>\n",
       "      <td>Yield</td>\n",
       "      <td>The solid product obtained</td>\n",
       "      <td>[]</td>\n",
       "      <td>[]</td>\n",
       "      <td>[]</td>\n",
       "      <td>[]</td>\n",
       "      <td>[]</td>\n",
       "      <td>10</td>\n",
       "    </tr>\n",
       "    <tr>\n",
       "      <th>11</th>\n",
       "      <td>Filter</td>\n",
       "      <td>was filtered</td>\n",
       "      <td>[]</td>\n",
       "      <td>[]</td>\n",
       "      <td>[]</td>\n",
       "      <td>[]</td>\n",
       "      <td>[]</td>\n",
       "      <td>11</td>\n",
       "    </tr>\n",
       "    <tr>\n",
       "      <th>12</th>\n",
       "      <td>Wash</td>\n",
       "      <td>washed with distilled water</td>\n",
       "      <td>[{'name': 'water', 'mass': nan, 'other_amount'...</td>\n",
       "      <td>[]</td>\n",
       "      <td>[]</td>\n",
       "      <td>[with distilled water]</td>\n",
       "      <td>[]</td>\n",
       "      <td>12</td>\n",
       "    </tr>\n",
       "    <tr>\n",
       "      <th>13</th>\n",
       "      <td>Dry</td>\n",
       "      <td>dried at 100-110 °C for 6 h</td>\n",
       "      <td>[]</td>\n",
       "      <td>[at 100-110 °C]</td>\n",
       "      <td>[for 6 h]</td>\n",
       "      <td>[]</td>\n",
       "      <td>[]</td>\n",
       "      <td>13</td>\n",
       "    </tr>\n",
       "  </tbody>\n",
       "</table>\n",
       "</div>"
      ],
      "text/plain": [
       "        name                                               text  \\\n",
       "0   Dissolve  Sodium hydroxide 0.88 g ( 0.22 mol ) was disso...   \n",
       "1        Add  Sodium aluminate 1.05 g ( 0.0128 mol ) and 196...   \n",
       "2       Stir                 the mixture was stirred for 30 min   \n",
       "3        Add  Tetraethoxysilane 41.9 ml ( 0.1882 mol ) was a...   \n",
       "4       Stir                                stirred for an hour   \n",
       "5        Add          Finally 15 g of the seeding gel was added   \n",
       "6       Stir                    the mixture was stirred for 1 h   \n",
       "7       None              The pH of the mixture was 10.2-11.0 .   \n",
       "8       Stir                   stirred at 230-250 °C for 4-10 h   \n",
       "9       None  The total mixture was put into 600 ml Parr aut...   \n",
       "10     Yield                         The solid product obtained   \n",
       "11    Filter                                       was filtered   \n",
       "12      Wash                        washed with distilled water   \n",
       "13       Dry                        dried at 100-110 °C for 6 h   \n",
       "\n",
       "                                        new_chemicals             temp  \\\n",
       "0   [{'name': 'Sodium hydroxide', 'mass': '0.88 g'...               []   \n",
       "1   [{'name': 'Sodium aluminate', 'mass': '1.05 g'...               []   \n",
       "2                                                  []               []   \n",
       "3   [{'name': 'Tetraethoxysilane', 'mass': nan, 'o...               []   \n",
       "4                                                  []               []   \n",
       "5   [{'name': 'unknown', 'mass': '15 g', 'other_am...               []   \n",
       "6                                                  []               []   \n",
       "7                                                  []               []   \n",
       "8                                                  []  [at 230-250 °C]   \n",
       "9                                                  []               []   \n",
       "10                                                 []               []   \n",
       "11                                                 []               []   \n",
       "12  [{'name': 'water', 'mass': nan, 'other_amount'...               []   \n",
       "13                                                 []  [at 100-110 °C]   \n",
       "\n",
       "             time                     prepphrase apparatus step number  \n",
       "0              []  [in 25 ml of distilled water]        []           0  \n",
       "1              []                             []        []           1  \n",
       "2    [for 30 min]                             []        []           2  \n",
       "3              []                             []        []           3  \n",
       "4   [for an hour]                             []        []           4  \n",
       "5              []                             []        []           5  \n",
       "6       [for 1 h]                             []        []           6  \n",
       "7              []               [of the mixture]        []           7  \n",
       "8    [for 4-10 h]                             []        []           8  \n",
       "9              []   [into 600 ml Parr autoclave]        []           9  \n",
       "10             []                             []        []          10  \n",
       "11             []                             []        []          11  \n",
       "12             []         [with distilled water]        []          12  \n",
       "13      [for 6 h]                             []        []          13  "
      ]
     },
     "execution_count": 275,
     "metadata": {},
     "output_type": "execute_result"
    }
   ],
   "source": [
    "test_syn.raw_synthesis"
   ]
  },
  {
   "cell_type": "code",
   "execution_count": 276,
   "metadata": {
    "ExecuteTime": {
     "end_time": "2022-11-04T15:32:03.009360Z",
     "start_time": "2022-11-04T15:32:02.985372Z"
    }
   },
   "outputs": [],
   "source": [
    "test_syn.raw_synthesis.to_json(f'./majed/{working}.json')"
   ]
  },
  {
   "cell_type": "code",
   "execution_count": null,
   "metadata": {},
   "outputs": [],
   "source": []
  }
 ],
 "metadata": {
  "kernelspec": {
   "display_name": "Python 3",
   "language": "python",
   "name": "python3"
  },
  "language_info": {
   "codemirror_mode": {
    "name": "ipython",
    "version": 3
   },
   "file_extension": ".py",
   "mimetype": "text/x-python",
   "name": "python",
   "nbconvert_exporter": "python",
   "pygments_lexer": "ipython3",
   "version": "3.7.10"
  },
  "toc": {
   "base_numbering": 1,
   "nav_menu": {},
   "number_sections": true,
   "sideBar": true,
   "skip_h1_title": true,
   "title_cell": "Table of Contents",
   "title_sidebar": "Contents",
   "toc_cell": false,
   "toc_position": {},
   "toc_section_display": true,
   "toc_window_display": false
  },
  "vscode": {
   "interpreter": {
    "hash": "00392d8af3ae6f67f688018650d199204f6d960c7ee17924fe18304161849de1"
   }
  }
 },
 "nbformat": 4,
 "nbformat_minor": 1
}
