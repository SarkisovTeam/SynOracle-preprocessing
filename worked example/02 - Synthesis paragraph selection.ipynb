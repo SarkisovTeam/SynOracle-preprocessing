{
 "cells": [
  {
   "attachments": {},
   "cell_type": "markdown",
   "id": "3b1e2fcd",
   "metadata": {
    "pycharm": {
     "name": "#%% md\n"
    }
   },
   "source": [
    "# Identifying key paragraphs in papers downloaded from the RSC\n",
    "---"
   ]
  },
  {
   "cell_type": "code",
   "execution_count": 1,
   "id": "f49b53a8",
   "metadata": {
    "ExecuteTime": {
     "start_time": "2022-07-05T08:05:25.374Z"
    }
   },
   "outputs": [],
   "source": [
    "import os\n",
    "from glob import glob\n",
    "from itertools import tee\n",
    "from tqdm.notebook import tqdm, trange\n",
    "\n",
    "import sys\n",
    "try:\n",
    "    from synoracle.xptlpaper import ExperimentalPaper\n",
    "except ModuleNotFoundError:\n",
    "    module_path = os.path.abspath(os.path.join('..'))\n",
    "    if module_path not in sys.path:\n",
    "        sys.path.append(module_path)\n",
    "    from synoracle.xptlpaper import ExperimentalPaper\n",
    "\n"
   ]
  },
  {
   "attachments": {},
   "cell_type": "markdown",
   "id": "4c5bb2ca",
   "metadata": {
    "pycharm": {
     "name": "#%% md\n"
    }
   },
   "source": [
    "# The processing loop"
   ]
  },
  {
   "cell_type": "code",
   "execution_count": 9,
   "id": "c5cea5e3",
   "metadata": {},
   "outputs": [
    {
     "data": {
      "text/plain": [
       "[Title(id=None, references=[], text='Ultrasound and microwave assisted-synthesis of ZIF-8 from zinc oxide for the adsorption of phosphate ')]"
      ]
     },
     "execution_count": 9,
     "metadata": {},
     "output_type": "execute_result"
    }
   ],
   "source": [
    "test_paper = ExperimentalPaper(paper_identifier='S2590123022000482', source_directory='./')\n",
    "test_paper.create_cde_doc()\n",
    "test_paper.cde_doc.titles"
   ]
  },
  {
   "cell_type": "code",
   "execution_count": 10,
   "id": "2b329269",
   "metadata": {},
   "outputs": [
    {
     "name": "stdout",
     "output_type": "stream",
     "text": [
      "\n",
      "\n",
      "92\n",
      "--------\n",
      "All chemicals were purchased from commercial sources (Aldrich and VWR) and used as received without further purification. The solvents used for the synthesis were of analytical reagent grade. The synthesis of ZIF-8 was assisted by microwave irradiation and ultrasound. Three mixtures of solvent were used (deionized water/dimethylformamide) (W/D), (deionized water/methanol) (W/M) and (deionized water/deionized water) (W/W). In brief, 0,2 g ZnO and 0.8 g 2-methylimidazole (Hmim) were added separately into 15 mL of deionized water (W) and 15 mL of deionized water or DMF (D) or methanol (M). Then, the zinc oxide solution was added to Hmim solution, and the mixture was stirred for 10 min in ultrasonic bath before applying both microwave and ultrasound at 65 °C for 30 min to yield different materials named respectively ZIF-8-W-(US or MW), ZIF-8-WD-(US or MW) and ZIF-8-WM-(US or MW). The white color product was separated using centrifuge in 4000 rpm for 10 min and washed several times with deionized water.\n",
      "([re.compile('0,2.g'), re.compile('0\\\\.8.g'), re.compile('15.mL'), re.compile('15.mL')], 4)\n"
     ]
    }
   ],
   "source": [
    "for c,paragraph in enumerate(test_paper.cde_doc.paragraphs):\n",
    "    if test_paper.count_all_quantities(paragraph)[1] > 3:\n",
    "        print(f'\\n\\n{c}\\n--------') \n",
    "        print(paragraph.text)\n",
    "        print(test_paper.count_all_quantities(paragraph))"
   ]
  },
  {
   "cell_type": "code",
   "execution_count": 11,
   "id": "968ff8fd",
   "metadata": {},
   "outputs": [
    {
     "data": {
      "text/plain": [
       "{92: Paragraph(id='p0060', references=[], text='All chemicals were purchased from commercial sources (Aldrich and VWR) and used as received without further purification. The solvents used for the synthesis were of analytical reagent grade. The synthesis of ZIF-8 was assisted by microwave irradiation and ultrasound. Three mixtures of solvent were used (deionized water/dimethylformamide) (W/D), (deionized water/methanol) (W/M) and (deionized water/deionized water) (W/W). In brief, 0,2\\xa0g ZnO and 0.8\\xa0g 2-methylimidazole (Hmim) were added separately into 15\\xa0mL of deionized water (W) and 15\\xa0mL of deionized water or DMF (D) or methanol (M). Then, the zinc oxide solution was added to Hmim solution, and the mixture was stirred for 10\\xa0min in ultrasonic bath before applying both microwave and ultrasound at 65\\xa0°C for 30\\xa0min to yield different materials named respectively ZIF-8-W-(US or MW), ZIF-8-WD-(US or MW) and ZIF-8-WM-(US or MW). The white color product was separated using centrifuge in 4000\\xa0rpm for 10\\xa0min and washed several times with deionized water.')}"
      ]
     },
     "execution_count": 11,
     "metadata": {},
     "output_type": "execute_result"
    }
   ],
   "source": [
    "test_paper.identify_key_paragraphs()\n",
    "test_paper.candidate_paragraphs"
   ]
  },
  {
   "cell_type": "code",
   "execution_count": 13,
   "id": "7c0ce0b5",
   "metadata": {},
   "outputs": [],
   "source": [
    "test_paper.output_paragraphs(paragraph_keys=[92])"
   ]
  },
  {
   "cell_type": "code",
   "execution_count": null,
   "id": "7e085e60",
   "metadata": {},
   "outputs": [],
   "source": []
  }
 ],
 "metadata": {
  "kernelspec": {
   "display_name": "Python 3",
   "language": "python",
   "name": "python3"
  },
  "language_info": {
   "codemirror_mode": {
    "name": "ipython",
    "version": 3
   },
   "file_extension": ".py",
   "mimetype": "text/x-python",
   "name": "python",
   "nbconvert_exporter": "python",
   "pygments_lexer": "ipython3",
   "version": "3.7.10"
  },
  "toc": {
   "base_numbering": 1,
   "nav_menu": {},
   "number_sections": true,
   "sideBar": true,
   "skip_h1_title": true,
   "title_cell": "Table of Contents",
   "title_sidebar": "Contents",
   "toc_cell": false,
   "toc_position": {},
   "toc_section_display": true,
   "toc_window_display": false
  }
 },
 "nbformat": 4,
 "nbformat_minor": 5
}
