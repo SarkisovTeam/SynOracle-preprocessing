{
 "cells": [
  {
   "attachments": {},
   "cell_type": "markdown",
   "id": "7908ccc6",
   "metadata": {},
   "source": [
    "# Extracting a list of DOIs from `Elsapy`\n",
    "---\n",
    "In this notebook we describe methods to find and download papers to text mine their synthesis protocols. As this is a worked example, we go through the process with a single paper only.\n",
    "\n",
    "The steps takes to find and download a paper are: \n",
    "1. Searching the SCOPUS database for a target paper using `elsapy`\n",
    "2. Ientifying key metadata about the paper like the publisher and DOI\n",
    "3. Using this metadata to download the paper\n"
   ]
  },
  {
   "attachments": {},
   "cell_type": "markdown",
   "id": "86b04397",
   "metadata": {},
   "source": [
    "## Importing useful libraries\n",
    "\n",
    "The first step is to import the `Elsapy` library and some ancillary tools."
   ]
  },
  {
   "cell_type": "code",
   "execution_count": 2,
   "id": "6751f49f",
   "metadata": {
    "ExecuteTime": {
     "end_time": "2022-10-04T10:49:07.367885Z",
     "start_time": "2022-10-04T10:48:58.515549Z"
    }
   },
   "outputs": [],
   "source": [
    "from elsapy.elsclient import ElsClient #The elsevier input/output client\n",
    "from elsapy.elsprofile import ElsAuthor, ElsAffil #Some useful information classes about the papers\n",
    "from elsapy.elsdoc import FullDoc, AbsDoc # Different paper document types\n",
    "from elsapy.elssearch import ElsSearch # The actual search engine we'll be using\n",
    "import requests # For accessing REST APIs over the internet\n",
    "import json # A common database system (javascript objects)\n",
    "import numpy as np # Numerical python, essential for handling mathematical terms and matrices\n",
    "import pandas as pd # A common data frame system, letting us access spreadsheet-likel data in python"
   ]
  },
  {
   "attachments": {},
   "cell_type": "markdown",
   "id": "6418ae50",
   "metadata": {},
   "source": [
    "## Setting up `Elsapy`\n",
    "Then, using credentials from [dev.elsevier.com](https://dev.elsevier.com/), instantiate the `ElsClient` object. \n",
    "\n",
    "N.B. For this section, and institution token isn't needed, only the API key. However, if you have an institution token you **must** use it, even when it's not needed."
   ]
  },
  {
   "cell_type": "code",
   "execution_count": 3,
   "id": "7f636df6",
   "metadata": {
    "ExecuteTime": {
     "end_time": "2022-10-04T10:49:07.383766Z",
     "start_time": "2022-10-04T10:49:07.369764Z"
    }
   },
   "outputs": [
    {
     "name": "stdout",
     "output_type": "stream",
     "text": [
      "2d4ca340a0995366916361c4b429e8a9\n",
      "e9d97c41f75ee97fb474c64ec63763a2\n"
     ]
    }
   ],
   "source": [
    "## Load configuration\n",
    "conFile = open(\"./elsapy_config.json\")\n",
    "config = json.load(conFile)\n",
    "conFile.close()\n",
    "\n",
    "## Initialize client\n",
    "client = ElsClient(config['apikey'])\n",
    "client.inst_token = config['insttoken']\n",
    "print(config['apikey'])\n",
    "print(config['insttoken'])"
   ]
  },
  {
   "attachments": {},
   "cell_type": "markdown",
   "id": "5871bf62",
   "metadata": {},
   "source": [
    "## Defining search terms\n",
    "Here, we instantiate an `ElsSearch` object with identical search terms as when we're searching the web of science. \n",
    "The filter syntax is somewhat complex, ans we;ve showcased a few options here. \n",
    "Further instructions for search string entry can be found [here](https://dev.elsevier.com/sc_search_tips.html)."
   ]
  },
  {
   "cell_type": "code",
   "execution_count": 4,
   "id": "0ea6cbb9",
   "metadata": {
    "ExecuteTime": {
     "end_time": "2022-10-04T10:49:57.718391Z",
     "start_time": "2022-10-04T10:49:57.705367Z"
    },
    "pycharm": {
     "name": "#%%\n"
    }
   },
   "outputs": [],
   "source": [
    "myDocSrch = ElsSearch('TITLE(MCM-41 AND \"mesoporous molecular sieve\") AND SRCTYPE(J) AND pubyear = 2000 AND PUBLISHER(Elsevier)','scopus')"
   ]
  },
  {
   "attachments": {},
   "cell_type": "markdown",
   "id": "8dbeeca2",
   "metadata": {},
   "source": [
    "We separately run the search, and count how many results we get. In the first instance we set `get_all` to false to make it run faster and check we've found a reasonable number of papers."
   ]
  },
  {
   "cell_type": "code",
   "execution_count": 5,
   "id": "fc4ba616",
   "metadata": {
    "ExecuteTime": {
     "end_time": "2022-10-04T10:52:20.483545Z",
     "start_time": "2022-10-04T10:52:19.382175Z"
    },
    "scrolled": true
   },
   "outputs": [
    {
     "name": "stdout",
     "output_type": "stream",
     "text": [
      "1 papers found\n"
     ]
    }
   ],
   "source": [
    "myDocSrch.execute(client, get_all=False)\n",
    "print(myDocSrch.tot_num_res, 'papers found')"
   ]
  },
  {
   "attachments": {},
   "cell_type": "markdown",
   "id": "80eae93a",
   "metadata": {},
   "source": [
    "Once done, we can re-run the search with `get_all` as True, from which we see the results in table form."
   ]
  },
  {
   "cell_type": "code",
   "execution_count": 6,
   "id": "501aa48f",
   "metadata": {
    "ExecuteTime": {
     "end_time": "2022-10-04T10:52:49.746924Z",
     "start_time": "2022-10-04T10:52:22.253057Z"
    },
    "scrolled": true
   },
   "outputs": [
    {
     "data": {
      "text/html": [
       "<div>\n",
       "<style scoped>\n",
       "    .dataframe tbody tr th:only-of-type {\n",
       "        vertical-align: middle;\n",
       "    }\n",
       "\n",
       "    .dataframe tbody tr th {\n",
       "        vertical-align: top;\n",
       "    }\n",
       "\n",
       "    .dataframe thead th {\n",
       "        text-align: right;\n",
       "    }\n",
       "</style>\n",
       "<table border=\"1\" class=\"dataframe\">\n",
       "  <thead>\n",
       "    <tr style=\"text-align: right;\">\n",
       "      <th></th>\n",
       "      <th>@_fa</th>\n",
       "      <th>link</th>\n",
       "      <th>prism:url</th>\n",
       "      <th>dc:identifier</th>\n",
       "      <th>eid</th>\n",
       "      <th>dc:title</th>\n",
       "      <th>dc:creator</th>\n",
       "      <th>prism:publicationName</th>\n",
       "      <th>prism:issn</th>\n",
       "      <th>prism:volume</th>\n",
       "      <th>...</th>\n",
       "      <th>prism:doi</th>\n",
       "      <th>pii</th>\n",
       "      <th>citedby-count</th>\n",
       "      <th>affiliation</th>\n",
       "      <th>prism:aggregationType</th>\n",
       "      <th>subtype</th>\n",
       "      <th>subtypeDescription</th>\n",
       "      <th>source-id</th>\n",
       "      <th>openaccess</th>\n",
       "      <th>openaccessFlag</th>\n",
       "    </tr>\n",
       "  </thead>\n",
       "  <tbody>\n",
       "    <tr>\n",
       "      <th>0</th>\n",
       "      <td>true</td>\n",
       "      <td>{'self': 'https://api.elsevier.com/content/abs...</td>\n",
       "      <td>https://api.elsevier.com/content/abstract/scop...</td>\n",
       "      <td>SCOPUS_ID:0034281469</td>\n",
       "      <td>2-s2.0-0034281469</td>\n",
       "      <td>Electrorheological properties of a suspension ...</td>\n",
       "      <td>Choi H.</td>\n",
       "      <td>Microporous and Mesoporous Materials</td>\n",
       "      <td>13871811</td>\n",
       "      <td>39</td>\n",
       "      <td>...</td>\n",
       "      <td>10.1016/S1387-1811(00)00167-0</td>\n",
       "      <td>S1387181100001670</td>\n",
       "      <td>83</td>\n",
       "      <td>[{'@_fa': 'true', 'affilname': 'Inha Universit...</td>\n",
       "      <td>Journal</td>\n",
       "      <td>ar</td>\n",
       "      <td>Article</td>\n",
       "      <td>26989</td>\n",
       "      <td>0</td>\n",
       "      <td>False</td>\n",
       "    </tr>\n",
       "  </tbody>\n",
       "</table>\n",
       "<p>1 rows × 24 columns</p>\n",
       "</div>"
      ],
      "text/plain": [
       "   @_fa                                               link  \\\n",
       "0  true  {'self': 'https://api.elsevier.com/content/abs...   \n",
       "\n",
       "                                           prism:url         dc:identifier  \\\n",
       "0  https://api.elsevier.com/content/abstract/scop...  SCOPUS_ID:0034281469   \n",
       "\n",
       "                 eid                                           dc:title  \\\n",
       "0  2-s2.0-0034281469  Electrorheological properties of a suspension ...   \n",
       "\n",
       "  dc:creator                 prism:publicationName prism:issn prism:volume  \\\n",
       "0    Choi H.  Microporous and Mesoporous Materials   13871811           39   \n",
       "\n",
       "   ...                      prism:doi                pii citedby-count  \\\n",
       "0  ...  10.1016/S1387-1811(00)00167-0  S1387181100001670            83   \n",
       "\n",
       "                                         affiliation prism:aggregationType  \\\n",
       "0  [{'@_fa': 'true', 'affilname': 'Inha Universit...               Journal   \n",
       "\n",
       "  subtype  subtypeDescription source-id openaccess openaccessFlag  \n",
       "0      ar             Article     26989          0          False  \n",
       "\n",
       "[1 rows x 24 columns]"
      ]
     },
     "execution_count": 6,
     "metadata": {},
     "output_type": "execute_result"
    }
   ],
   "source": [
    "myDocSrch.execute(client, get_all=True)\n",
    "myDocSrch.results_df.head()"
   ]
  },
  {
   "attachments": {},
   "cell_type": "markdown",
   "id": "7cf92759",
   "metadata": {},
   "source": [
    "The table contains lots of columns, many of which are not necessary for our purposes."
   ]
  },
  {
   "cell_type": "code",
   "execution_count": 7,
   "id": "7ecd5d67",
   "metadata": {
    "ExecuteTime": {
     "end_time": "2022-10-04T10:55:01.589311Z",
     "start_time": "2022-10-04T10:55:01.565310Z"
    }
   },
   "outputs": [
    {
     "name": "stdout",
     "output_type": "stream",
     "text": [
      "24 columns\n",
      "['@_fa',\n",
      " 'link',\n",
      " 'prism:url',\n",
      " 'dc:identifier',\n",
      " 'eid',\n",
      " 'dc:title',\n",
      " 'dc:creator',\n",
      " 'prism:publicationName',\n",
      " 'prism:issn',\n",
      " 'prism:volume',\n",
      " 'prism:issueIdentifier',\n",
      " 'prism:pageRange',\n",
      " 'prism:coverDate',\n",
      " 'prism:coverDisplayDate',\n",
      " 'prism:doi',\n",
      " 'pii',\n",
      " 'citedby-count',\n",
      " 'affiliation',\n",
      " 'prism:aggregationType',\n",
      " 'subtype',\n",
      " 'subtypeDescription',\n",
      " 'source-id',\n",
      " 'openaccess',\n",
      " 'openaccessFlag']\n"
     ]
    }
   ],
   "source": [
    "from pprint import pprint\n",
    "print(len( myDocSrch.results_df.columns), 'columns')\n",
    "pprint([x for x in myDocSrch.results_df.columns])"
   ]
  },
  {
   "attachments": {},
   "cell_type": "markdown",
   "id": "9a6bc9bc",
   "metadata": {},
   "source": [
    "Instead, we can select just the columns we care about like this:"
   ]
  },
  {
   "cell_type": "code",
   "execution_count": 8,
   "id": "0cad3b02",
   "metadata": {
    "ExecuteTime": {
     "end_time": "2022-04-25T22:22:18.344192Z",
     "start_time": "2022-04-25T22:22:18.327188Z"
    }
   },
   "outputs": [
    {
     "data": {
      "text/html": [
       "<div>\n",
       "<style scoped>\n",
       "    .dataframe tbody tr th:only-of-type {\n",
       "        vertical-align: middle;\n",
       "    }\n",
       "\n",
       "    .dataframe tbody tr th {\n",
       "        vertical-align: top;\n",
       "    }\n",
       "\n",
       "    .dataframe thead th {\n",
       "        text-align: right;\n",
       "    }\n",
       "</style>\n",
       "<table border=\"1\" class=\"dataframe\">\n",
       "  <thead>\n",
       "    <tr style=\"text-align: right;\">\n",
       "      <th></th>\n",
       "      <th>dc:title</th>\n",
       "      <th>dc:creator</th>\n",
       "      <th>affiliation</th>\n",
       "      <th>prism:publicationName</th>\n",
       "      <th>prism:doi</th>\n",
       "      <th>pii</th>\n",
       "    </tr>\n",
       "  </thead>\n",
       "  <tbody>\n",
       "    <tr>\n",
       "      <th>0</th>\n",
       "      <td>Electrorheological properties of a suspension ...</td>\n",
       "      <td>Choi H.</td>\n",
       "      <td>[{'@_fa': 'true', 'affilname': 'Inha Universit...</td>\n",
       "      <td>Microporous and Mesoporous Materials</td>\n",
       "      <td>10.1016/S1387-1811(00)00167-0</td>\n",
       "      <td>S1387181100001670</td>\n",
       "    </tr>\n",
       "  </tbody>\n",
       "</table>\n",
       "</div>"
      ],
      "text/plain": [
       "                                            dc:title dc:creator  \\\n",
       "0  Electrorheological properties of a suspension ...    Choi H.   \n",
       "\n",
       "                                         affiliation  \\\n",
       "0  [{'@_fa': 'true', 'affilname': 'Inha Universit...   \n",
       "\n",
       "                  prism:publicationName                      prism:doi  \\\n",
       "0  Microporous and Mesoporous Materials  10.1016/S1387-1811(00)00167-0   \n",
       "\n",
       "                 pii  \n",
       "0  S1387181100001670  "
      ]
     },
     "execution_count": 8,
     "metadata": {},
     "output_type": "execute_result"
    }
   ],
   "source": [
    "necessary_columns = ['dc:title', 'dc:creator', 'affiliation', 'prism:publicationName', 'prism:doi', 'pii']\n",
    "paper_info = myDocSrch.results_df[necessary_columns]\n",
    "paper_info.head()"
   ]
  },
  {
   "attachments": {},
   "cell_type": "markdown",
   "id": "a2fe9a56",
   "metadata": {},
   "source": [
    "## Downloading the paper\n",
    "Now that we've identified a paper that we want to download and textmine, we need to access it. \n",
    "While Elsevier allows easy access to their articles through the `elsapy` interface, I've found that accessing the web version simplifies later text minng. Accordingly, we're going to download the paper using `requests` alongside the paper identifier we found siogn `elsapy` and our acess tokens. \n",
    "\n",
    "This returns the manuscript as a binary xml document, which can be output to a file."
   ]
  },
  {
   "cell_type": "code",
   "execution_count": 9,
   "id": "169f12d3",
   "metadata": {},
   "outputs": [],
   "source": [
    "paper = paper_info.loc[0,'pii']\n",
    "\n",
    "x = requests.get(\n",
    "    f'https://api.elsevier.com/content/article/pii/{paper}',\n",
    "    params = {\n",
    "        'apiKey': config['apikey'],\n",
    "        'insttoken': config['insttoken']\n",
    "    }\n",
    ")\n",
    "\n",
    "with open(f'./{paper}.xml', 'wb') as f:\n",
    "    f.write(x.content)"
   ]
  },
  {
   "cell_type": "code",
   "execution_count": 17,
   "id": "3336eee8",
   "metadata": {},
   "outputs": [
    {
     "name": "stdout",
     "output_type": "stream",
     "text": [
      "<!--    Elsevier Journal Article Input DTD version 5.6.0p1\n",
      "        Public Identifier: -//ES//DTD journal article DTD version 5.6.0//EN//XML\n",
      "        \n",
      "        Copyright © 1993-2018 Elsevier B.V.\n",
      "        This is open access material under the CC BY license (http://creativecommons.org/licenses/by/4.0/).\n",
      "\n",
      "        Documentation available at https://www.elsevier.com/locate/xml\n",
      "-->\n",
      "<!--    Supported doctypes: article, simple-article, book-review, exam\n",
      "\n",
      "        Typical invocations:\n",
      "\n",
      "        <!DOCTYPE article\n",
      "          PUBLIC \"-//ES//DTD journal article DTD version 5.6.0//EN//XML\"\n",
      "          \"art560.dtd\">\n",
      "\n",
      "        <!DOCTYPE simple-article \n",
      "          PUBLIC \"-//ES//DTD journal article DTD version 5.6.0//EN//XML\"\n",
      "          \"art560.dtd\">\n",
      "\n",
      "        <!DOCTYPE book-review\n",
      "          PUBLIC \"-//ES//DTD journal article DTD version 5.6.0//EN//XML\"\n",
      "          \"art560.dtd\">\n",
      "\n",
      "        <!DOCTYPE exam\n",
      "          PUBLIC \"-//ES//DTD journal article DTD version 5.6.0//EN//XML\"\n",
      "          \"art560.dtd\">\n",
      "\n",
      "-->\n",
      "\n",
      "<!-- include the common element pool -->\n",
      "\n",
      "<!ENTITY % common.ent\n",
      "    PUBLIC \"-//ES//ELEMENTS common element pool version 1.6.0//EN//XML\"\n",
      "    \"common160.ent\">\n",
      "%common.ent;\n",
      "\n",
      "<!-- namespaces and public identifiers -->\n",
      "\n",
      "<!ENTITY % ESJA.xmlns       \"'https://www.elsevier.com/xml/ja/dtd'\" >\n",
      "\n",
      "<!-- attribute type entities -->\n",
      "\n",
      "<!ENTITY % docsubtype       \"(abs|add|adv|ann|brv|cal|chp|cnf|con|cop|cor|crp|dis|dup|edb|edi|err|exm|fla|ind|lit|mis|\n",
      "                              nws|ocn|pgl|pnt|prp|prv|pub|rem|req|ret|rev|sco|ssu|mic|dat|lst|osp|rpl|vid|eoc|ins|tpg|pro)\" >\n",
      "\n",
      "<!-- attribute group entities -->\n",
      "\n",
      "<!ENTITY % top-level.att\n",
      "               \"xmlns           CDATA               #FIXED  %ESJA.xmlns;\n",
      "                version         CDATA               #FIXED  '5.6'\n",
      "                xmlns:ce        CDATA               #FIXED  %ESCE.xmlns;\n",
      "                xmlns:sa        CDATA               #FIXED  %ESSA.xmlns;\n",
      "                xmlns:sb        CDATA               #FIXED  %ESSB.xmlns;\n",
      "                xmlns:xlink     CDATA               #FIXED  %XLINK.xmlns;\n",
      "                xml:lang        %iso639;            'en'\">\n",
      "\n",
      "<!-- article -->\n",
      "\n",
      "<!ELEMENT   article             ( item-info, ce:floats?, head, body?, tail? )>\n",
      "<!ATTLIST   article\n",
      "                %top-level.att;\n",
      "                docsubtype      %docsubtype;        \"fla\">\n",
      "\n",
      "<!-- simplified article, suitable for edi, cor and other pits -->\n",
      "\n",
      "<!ELEMENT   simple-article      ( item-info, ce:floats?, simple-head, body?, simple-tail? )>\n",
      "<!ATTLIST   simple-article\n",
      "                %top-level.att;\n",
      "                docsubtype      %docsubtype;        #REQUIRED>\n",
      "\n",
      "<!-- book review -->\n",
      "\n",
      "<!ELEMENT   book-review         ( item-info, ce:floats?, book-review-head, body?, simple-tail? )>\n",
      "<!ATTLIST   book-review\n",
      "                %top-level.att;\n",
      "                docsubtype      (brv|err)           \"brv\">\n",
      "\n",
      "<!-- examination -->\n",
      "\n",
      "<!ELEMENT   exam                ( item-info, ce:floats?, simple-head,\n",
      "                                  ( ce:exam-answers | ce:exam-questions )+ )>\n",
      "<!ATTLIST   exam\n",
      "                %top-level.att;\n",
      "                docsubtype      (exm|err)           \"exm\">\n",
      "\n",
      "<!-- information about the item -->\n",
      "\n",
      "<!ELEMENT   item-info           ( jid, aid?, ce:article-number?, ce:pii, ce:doi?,\n",
      "                                  ce:document-thread?, %copyright;, ce:doctopics?,\n",
      "                                  ce:preprint?, ce:associated-resource* )>\n",
      "<!ELEMENT   jid                 ( %string.data; )* >\n",
      "<!ELEMENT   aid                 ( %string.data; )* >\n",
      "\n",
      "<!-- article front matter -->\n",
      "\n",
      "<!ELEMENT   head                ( ce:article-footnote*, ce:markers?,\n",
      "                                  ce:dochead?, ce:label?, ce:title, ce:subtitle?,\n",
      "                                  ( ce:alt-title, ce:alt-subtitle? )*, ce:short-title?,\n",
      "                                  ce:presented?, ce:dedication?, ce:author-group+, \n",
      "                                  ce:date-received?, ce:date-revised*, ce:date-accepted?,\n",
      "                                  ce:miscellaneous*,\n",
      "                                  ce:abstract*, ce:keywords*, ce:stereochem*, ce:data-availability? )>\n",
      "\n",
      "<!ELEMENT   simple-head         ( ce:article-footnote*, ce:markers?,\n",
      "                                  ( ( ce:label?, ce:title ) | ( ce:dochead, ce:label?, ce:title? ) ),\n",
      "                                  ce:subtitle?,\n",
      "                                  ( ce:alt-title, ce:alt-subtitle? )*, ce:short-title?,\n",
      "                                  ce:author-group*, \n",
      "                                  ce:date-received?, ce:date-revised*, ce:date-accepted?, \n",
      "                                  ce:miscellaneous*,\n",
      "                                  ce:abstract*, ce:keywords*, ce:data-availability? )>\n",
      "\n",
      "<!ELEMENT   book-review-head    ( ce:article-footnote*, ce:markers?,\n",
      "                                  ( ( ce:label?, ce:title, ce:alt-title*, ce:short-title? ) | \n",
      "                                    ( ce:dochead, ce:label?, ( ce:title, ce:alt-title*, ce:short-title? )? ) ),\n",
      "                                  ( sb:reference | ce:other-ref )+,\n",
      "                                  ce:author-group+,\n",
      "                                  ce:date-received?, ce:date-revised*, ce:date-accepted?,\n",
      "                                  ce:miscellaneous* )>\n",
      "\n",
      "<!-- article body -->\n",
      "\n",
      "<!ELEMENT   body                ( ce:nomenclature?, ce:salutation?,\n",
      "                                  ce:sections, ce:conflict-of-interest?,\n",
      "                                  ce:acknowledgment*, ce:appendices? )>\n",
      "<!ATTLIST   body\n",
      "               %common-view.att; >\n",
      "\n",
      "<!-- article back matter -->\n",
      "\n",
      "<!ELEMENT   tail                ( ce:bibliography?, ce:further-reading?, \n",
      "                                  ce:glossary?, ce:biography*,\n",
      "                                  ( ce:exam-answers | ce:exam-questions | ce:exam-reference )* )>\n",
      "<!ATTLIST   tail\n",
      "               %common-view.att; >\n",
      "\n",
      "<!ELEMENT   simple-tail         ( ce:bibliography?, ce:further-reading?,\n",
      "                                  ce:glossary?, ce:biography* )>\n",
      "<!ATTLIST   simple-tail\n",
      "               %common-view.att; >\n",
      "\n"
     ]
    },
    {
     "ename": "DTDParseError",
     "evalue": "error parsing DTD",
     "output_type": "error",
     "traceback": [
      "\u001b[1;31m---------------------------------------------------------------------------\u001b[0m",
      "\u001b[1;31mDTDParseError\u001b[0m                             Traceback (most recent call last)",
      "\u001b[1;32m<ipython-input-17-3082cf629994>\u001b[0m in \u001b[0;36m<module>\u001b[1;34m\u001b[0m\n\u001b[0;32m      6\u001b[0m \u001b[0mprint\u001b[0m\u001b[1;33m(\u001b[0m\u001b[0mdtd\u001b[0m\u001b[1;33m)\u001b[0m\u001b[1;33m\u001b[0m\u001b[1;33m\u001b[0m\u001b[0m\n\u001b[0;32m      7\u001b[0m \u001b[1;33m\u001b[0m\u001b[0m\n\u001b[1;32m----> 8\u001b[1;33m \u001b[0metree\u001b[0m\u001b[1;33m.\u001b[0m\u001b[0mDTD\u001b[0m\u001b[1;33m(\u001b[0m\u001b[0mdtd\u001b[0m\u001b[1;33m)\u001b[0m\u001b[1;33m\u001b[0m\u001b[1;33m\u001b[0m\u001b[0m\n\u001b[0m",
      "\u001b[1;32msrc/lxml/dtd.pxi\u001b[0m in \u001b[0;36mlxml.etree.DTD.__init__\u001b[1;34m()\u001b[0m\n",
      "\u001b[1;31mDTDParseError\u001b[0m: error parsing DTD"
     ]
    }
   ],
   "source": [
    "from lxml import etree\n",
    "\n",
    "with open('./els_dtd.xml', 'r') as f:\n",
    "    dtd = f.read()\n",
    "\n",
    "print(dtd)\n",
    "\n",
    "etree.DTD(dtd)\n"
   ]
  }
 ],
 "metadata": {
  "kernelspec": {
   "display_name": "Python 3",
   "language": "python",
   "name": "python3"
  },
  "language_info": {
   "codemirror_mode": {
    "name": "ipython",
    "version": 3
   },
   "file_extension": ".py",
   "mimetype": "text/x-python",
   "name": "python",
   "nbconvert_exporter": "python",
   "pygments_lexer": "ipython3",
   "version": "3.7.10"
  },
  "toc": {
   "base_numbering": 1,
   "nav_menu": {},
   "number_sections": true,
   "sideBar": true,
   "skip_h1_title": true,
   "title_cell": "Table of Contents",
   "title_sidebar": "Contents",
   "toc_cell": false,
   "toc_position": {},
   "toc_section_display": true,
   "toc_window_display": false
  },
  "vscode": {
   "interpreter": {
    "hash": "b267987cce06007f6e03e8695abe5dfedc27fae1ae9ceb4e211c82b4ab32ec14"
   }
  }
 },
 "nbformat": 4,
 "nbformat_minor": 5
}
