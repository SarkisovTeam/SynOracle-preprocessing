{
 "cells": [
  {
   "attachments": {},
   "cell_type": "markdown",
   "metadata": {},
   "source": [
    "# Extracting information from a paragraph\n",
    "---\n",
    "So now we have our paragraphs, let's see what kind of information we can get out! The first thing we need to do is import some libraries, including the `synparagraph` one I wrote for this specific purpose."
   ]
  },
  {
   "cell_type": "code",
   "execution_count": 1,
   "metadata": {
    "ExecuteTime": {
     "end_time": "2022-11-04T15:03:30.117731Z",
     "start_time": "2022-11-04T15:03:28.664697Z"
    }
   },
   "outputs": [],
   "source": [
    "import os\n",
    "import sys\n",
    "import matplotlib.pyplot as plt\n",
    "\n",
    "try:\n",
    "    from synoracle.synparagraph import SynParagraph\n",
    "except ModuleNotFoundError:\n",
    "    module_path = os.path.abspath(os.path.join('..'))\n",
    "    if module_path not in sys.path:\n",
    "        sys.path.append(module_path)\n",
    "    from synoracle.synparagraph import SynParagraph"
   ]
  },
  {
   "cell_type": "code",
   "execution_count": 2,
   "metadata": {
    "ExecuteTime": {
     "end_time": "2022-11-04T15:03:54.227749Z",
     "start_time": "2022-11-04T15:03:53.999565Z"
    },
    "pycharm": {
     "name": "#%%\n"
    }
   },
   "outputs": [],
   "source": [
    "import pandas as pd\n",
    "import numpy as np\n",
    "import pint\n",
    "ureg = pint.UnitRegistry()\n",
    "Q_ = ureg.Quantity\n",
    "\n",
    "from glob import glob\n",
    "from tqdm.notebook import tqdm, trange\n",
    "def li_iterate(li):\n",
    "    l = iter(li)\n",
    "    for _ in trange(len(li)):\n",
    "        yield next(l)"
   ]
  },
  {
   "attachments": {},
   "cell_type": "markdown",
   "metadata": {},
   "source": [
    "## Picking a paper and processing the information\n",
    "---\n",
    "We then instantiate a `SynthesisParagraph` object, which does our data extraction for us. This loads in the paper, but doesn't go through the data extraction just yet."
   ]
  },
  {
   "cell_type": "code",
   "execution_count": 2,
   "metadata": {
    "ExecuteTime": {
     "end_time": "2022-11-04T15:08:13.985103Z",
     "start_time": "2022-11-04T15:07:58.172068Z"
    }
   },
   "outputs": [
    {
     "name": "stdout",
     "output_type": "stream",
     "text": [
      "./\n"
     ]
    }
   ],
   "source": [
    "\n",
    "test_syn = SynParagraph('S2590123022000482.92', source_directory='./', chemtagger_dir = '../')"
   ]
  },
  {
   "attachments": {},
   "cell_type": "markdown",
   "metadata": {},
   "source": [
    "## Looking at the text classification\n",
    "---\n",
    "Now our object is successfully instantiated, we can read the text (`raw_text`) and scan how `ChemDataExtractor` and `ChemicalTagger`interpreted the information. `cde_text` underlines identified chemicals, and `xml_text` colour codes action phrases too."
   ]
  },
  {
   "cell_type": "code",
   "execution_count": 3,
   "metadata": {
    "ExecuteTime": {
     "end_time": "2022-11-04T15:11:36.796546Z",
     "start_time": "2022-11-04T15:11:36.780545Z"
    }
   },
   "outputs": [
    {
     "name": "stdout",
     "output_type": "stream",
     "text": [
      "\u001b[mAll\u001b[0m \u001b[mchemicals\u001b[0m \u001b[mwere\u001b[0m \u001b[mpurchased\u001b[0m \u001b[mfrom\u001b[0m \u001b[mcommercial\u001b[0m \u001b[msources\u001b[0m \u001b[m(\u001b[0m \u001b[mAldrich\u001b[0m \u001b[mand\u001b[0m \u001b[4mVWR\u001b[0m \u001b[m)\u001b[0m \u001b[mand\u001b[0m \u001b[mused\u001b[0m \u001b[95mas\u001b[0m \u001b[95mreceived\u001b[0m \u001b[95mwithout\u001b[0m \u001b[95mfurther\u001b[0m \u001b[95mpurification\u001b[0m \u001b[m.\u001b[0m \u001b[mThe\u001b[0m \u001b[msolvents\u001b[0m \u001b[mused\u001b[0m \u001b[mfor\u001b[0m \u001b[mthe\u001b[0m \u001b[msynthesis\u001b[0m \u001b[mwere\u001b[0m \u001b[mof\u001b[0m \u001b[manalytical\u001b[0m \u001b[mreagent\u001b[0m \u001b[mgrade\u001b[0m \u001b[m.\u001b[0m \u001b[95mThe\u001b[0m \u001b[95msynthesis\u001b[0m \u001b[95mof\u001b[0m \u001b[4;95mZIF-8\u001b[0m \u001b[mwas\u001b[0m \u001b[massisted\u001b[0m \u001b[mby\u001b[0m \u001b[mmicrowave\u001b[0m \u001b[mirradiation\u001b[0m \u001b[mand\u001b[0m \u001b[multrasound\u001b[0m \u001b[m.\u001b[0m \u001b[mThree\u001b[0m \u001b[mmixtures\u001b[0m \u001b[mof\u001b[0m \u001b[msolvent\u001b[0m \u001b[mwere\u001b[0m \u001b[mused\u001b[0m \u001b[m(\u001b[0m \u001b[mdeionized\u001b[0m \u001b[4mwater\u001b[0m \u001b[m/\u001b[0m \u001b[4mdimethylformamide\u001b[0m \u001b[m)\u001b[0m \u001b[m(\u001b[0m \u001b[4mW/D\u001b[0m \u001b[m)\u001b[0m \u001b[m,\u001b[0m \u001b[m(\u001b[0m \u001b[mdeionized\u001b[0m \u001b[4mwater\u001b[0m \u001b[m/\u001b[0m \u001b[4mmethanol\u001b[0m \u001b[m)\u001b[0m \u001b[m(\u001b[0m \u001b[4mW/M\u001b[0m \u001b[m)\u001b[0m \u001b[mand\u001b[0m \u001b[m(\u001b[0m \u001b[mdeionized\u001b[0m \u001b[mwater/deionized\u001b[0m \u001b[4mwater\u001b[0m \u001b[m)\u001b[0m \u001b[m(\u001b[0m \u001b[4mW\u001b[0m \u001b[m/\u001b[0m \u001b[4mW\u001b[0m \u001b[m)\u001b[0m \u001b[m.\u001b[0m \u001b[91mIn\u001b[0m \u001b[91mbrief\u001b[0m \u001b[91m,\u001b[0m \u001b[1;91m0,2\u001b[0m \u001b[1;91mg\u001b[0m \u001b[4;91mZnO\u001b[0m \u001b[91mand\u001b[0m \u001b[1;91m0.8\u001b[0m \u001b[1;91mg\u001b[0m \u001b[4;91m2-methylimidazole\u001b[0m \u001b[91m(\u001b[0m \u001b[91mHmim\u001b[0m \u001b[91m)\u001b[0m \u001b[91mwere\u001b[0m \u001b[91madded\u001b[0m \u001b[95mseparately\u001b[0m \u001b[95minto\u001b[0m \u001b[1;95m15\u001b[0m \u001b[1;95mmL\u001b[0m \u001b[95mof\u001b[0m \u001b[95mdeionized\u001b[0m \u001b[4;95mwater\u001b[0m \u001b[95m(\u001b[0m \u001b[95mW\u001b[0m \u001b[95m)\u001b[0m \u001b[95mand\u001b[0m \u001b[1;95m15\u001b[0m \u001b[1;95mmL\u001b[0m \u001b[95mof\u001b[0m \u001b[95mdeionized\u001b[0m \u001b[4;95mwater\u001b[0m \u001b[95mor\u001b[0m \u001b[4;95mDMF\u001b[0m \u001b[95m(\u001b[0m \u001b[95mD\u001b[0m \u001b[95m)\u001b[0m \u001b[95mor\u001b[0m \u001b[4;95mmethanol\u001b[0m \u001b[95m(\u001b[0m \u001b[95mM\u001b[0m \u001b[95m)\u001b[0m \u001b[m.\u001b[0m \u001b[91mThen\u001b[0m \u001b[91m,\u001b[0m \u001b[91mthe\u001b[0m \u001b[4;91mzinc\u001b[0m \u001b[4;91moxide\u001b[0m \u001b[91msolution\u001b[0m \u001b[91mwas\u001b[0m \u001b[91madded\u001b[0m \u001b[91mto\u001b[0m \u001b[91mHmim\u001b[0m \u001b[91msolution\u001b[0m \u001b[m,\u001b[0m \u001b[mand\u001b[0m \u001b[94mthe\u001b[0m \u001b[94mmixture\u001b[0m \u001b[94mwas\u001b[0m \u001b[94mstirred\u001b[0m \u001b[94mfor\u001b[0m \u001b[94m10\u001b[0m \u001b[94mmin\u001b[0m \u001b[94min\u001b[0m \u001b[94multrasonic\u001b[0m \u001b[94mbath\u001b[0m \u001b[mbefore\u001b[0m \u001b[mapplying\u001b[0m \u001b[mboth\u001b[0m \u001b[mmicrowave\u001b[0m \u001b[mand\u001b[0m \u001b[multrasound\u001b[0m \u001b[mat\u001b[0m \u001b[m65\u001b[0m \u001b[m°C\u001b[0m \u001b[mfor\u001b[0m \u001b[m30\u001b[0m \u001b[mmin\u001b[0m \u001b[95mto\u001b[0m \u001b[95myield\u001b[0m \u001b[95mdifferent\u001b[0m \u001b[95mmaterials\u001b[0m \u001b[mnamed\u001b[0m \u001b[mrespectively\u001b[0m \u001b[mZIF-8-W-(US\u001b[0m \u001b[mor\u001b[0m \u001b[mMW\u001b[0m \u001b[m)\u001b[0m \u001b[m,\u001b[0m \u001b[mZIF-8-WD-(US\u001b[0m \u001b[mor\u001b[0m \u001b[mMW\u001b[0m \u001b[m)\u001b[0m \u001b[mand\u001b[0m \u001b[4mZIF-8-WM-(US\u001b[0m \u001b[mor\u001b[0m \u001b[mMW\u001b[0m \u001b[m)\u001b[0m \u001b[m.\u001b[0m \u001b[95mThe\u001b[0m \u001b[95mwhite\u001b[0m \u001b[95mcolor\u001b[0m \u001b[95mproduct\u001b[0m \u001b[95mwas\u001b[0m \u001b[95mseparated\u001b[0m \u001b[musing\u001b[0m \u001b[mcentrifuge\u001b[0m \u001b[min\u001b[0m \u001b[m4000\u001b[0m \u001b[mrpm\u001b[0m \u001b[mfor\u001b[0m \u001b[m10\u001b[0m \u001b[mmin\u001b[0m \u001b[mand\u001b[0m \u001b[93mwashed\u001b[0m \u001b[93mseveral\u001b[0m \u001b[93mtimes\u001b[0m \u001b[93mwith\u001b[0m \u001b[93mdeionized\u001b[0m \u001b[4;93mwater\u001b[0m \u001b[m.\u001b[0m \n"
     ]
    }
   ],
   "source": [
    "test_syn.load_xml()\n",
    "print(test_syn.xml_para_annotate(test_syn.working_xml))"
   ]
  },
  {
   "attachments": {},
   "cell_type": "markdown",
   "metadata": {},
   "source": [
    "## Extracting a sequence\n",
    "---\n",
    "Finally, the sequence dataframe shows what was added when, letting us recreate the sequence of events described in the paragraph. "
   ]
  },
  {
   "cell_type": "code",
   "execution_count": 10,
   "metadata": {
    "ExecuteTime": {
     "end_time": "2022-11-04T15:12:45.842181Z",
     "start_time": "2022-11-04T15:12:45.786169Z"
    },
    "pycharm": {
     "name": "#%%\n"
    }
   },
   "outputs": [],
   "source": [
    "test_syn.raw_synthesis = test_syn.raw_synthesis.drop('text', axis=1)"
   ]
  },
  {
   "cell_type": "code",
   "execution_count": 12,
   "metadata": {
    "ExecuteTime": {
     "end_time": "2022-11-04T15:32:03.009360Z",
     "start_time": "2022-11-04T15:32:02.985372Z"
    }
   },
   "outputs": [],
   "source": [
    "test_syn.raw_synthesis.to_json('./S2590123022000482.92.json', indent=2)"
   ]
  },
  {
   "cell_type": "code",
   "execution_count": null,
   "metadata": {},
   "outputs": [],
   "source": []
  }
 ],
 "metadata": {
  "kernelspec": {
   "display_name": "Python 3",
   "language": "python",
   "name": "python3"
  },
  "language_info": {
   "codemirror_mode": {
    "name": "ipython",
    "version": 3
   },
   "file_extension": ".py",
   "mimetype": "text/x-python",
   "name": "python",
   "nbconvert_exporter": "python",
   "pygments_lexer": "ipython3",
   "version": "3.7.10"
  },
  "toc": {
   "base_numbering": 1,
   "nav_menu": {},
   "number_sections": true,
   "sideBar": true,
   "skip_h1_title": true,
   "title_cell": "Table of Contents",
   "title_sidebar": "Contents",
   "toc_cell": false,
   "toc_position": {},
   "toc_section_display": true,
   "toc_window_display": false
  },
  "vscode": {
   "interpreter": {
    "hash": "00392d8af3ae6f67f688018650d199204f6d960c7ee17924fe18304161849de1"
   }
  }
 },
 "nbformat": 4,
 "nbformat_minor": 1
}
